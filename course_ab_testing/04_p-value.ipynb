{
 "cells": [
  {
   "cell_type": "code",
   "execution_count": 1,
   "id": "initial_id",
   "metadata": {
    "collapsed": true,
    "ExecuteTime": {
     "end_time": "2024-03-19T07:37:58.522648Z",
     "start_time": "2024-03-19T07:37:58.083125Z"
    }
   },
   "outputs": [],
   "source": [
    "import numpy as np\n",
    "import pandas as pd"
   ]
  },
  {
   "cell_type": "markdown",
   "source": [
    "## P-value Coin check."
   ],
   "metadata": {
    "collapsed": false
   },
   "id": "2aecc7d6402f4292"
  },
  {
   "cell_type": "code",
   "outputs": [
    {
     "name": "stdout",
     "output_type": "stream",
     "text": [
      "Difference: 0, P-value[potential FPR]: 1.000000\n",
      "Difference: 1, P-value[potential FPR]: 0.757300\n",
      "Difference: 2, P-value[potential FPR]: 0.351500\n",
      "Difference: 3, P-value[potential FPR]: 0.112400\n",
      "Difference: 4, P-value[potential FPR]: 0.022900\n",
      "Difference: 5, P-value[potential FPR]: 0.000900\n"
     ]
    }
   ],
   "source": [
    "n = 10_000\n",
    "result = []\n",
    "for i in range(n):\n",
    "    np.random.seed(i)\n",
    "    result.append(np.random.binomial(10, 0.5))  # Кол-во бросков монеты в эксперименте + вероятность выпадения Орла\n",
    "\n",
    "df = pd.DataFrame({\"exp\": result})\n",
    "df[\"difference\"] = abs(df[\"exp\"] - 5)  # Считаем отклонения от нормы и без учета знака, так как двухсторонняя проверка\n",
    "\n",
    "# Посчитаем потенциальный FPR для каждого полученного отклонения от нормы  \n",
    "diff = df[\"difference\"].unique().tolist()\n",
    "diff.sort()\n",
    "\n",
    "for i in diff:\n",
    "    result = (df[\"difference\"] >= i).mean()\n",
    "    print(f\"Difference: {i}, P-value[potential FPR]: {result:4f}\")"
   ],
   "metadata": {
    "collapsed": false,
    "ExecuteTime": {
     "end_time": "2024-03-19T08:07:37.908813Z",
     "start_time": "2024-03-19T08:07:37.882017Z"
    }
   },
   "id": "1eafc5ddb615ba99",
   "execution_count": 54
  },
  {
   "cell_type": "markdown",
   "source": [
    "Итого. Мы получили шкалу оценки `P-value` (потенциального `FPR`) для каждого из возможных отклонений от нормы. И трактовать это нужно следующим образом:\n",
    "- При отклонении от нормы в 0 \"Орлов\" мы в 100% можем получать ложное срабатывание\n",
    "- При отклонении от нормы в 1 \"Орла\" мы в 75% можем получать ложное срабатывание\n",
    "- При отклонении от нормы в 2 \"Орла\" мы в 35% можем получать ложное срабатывание\n",
    "- При отклонении от нормы в 3 \"Орла\" мы в 11% можем получать ложное срабатывание\n",
    "- При отклонении от нормы в 4 \"Орла\" мы в 2% можем получать ложное срабатывание\n",
    "- При отклонении от нормы в 5 \"Орла\" мы в 0% можем получать ложное срабатывание"
   ],
   "metadata": {
    "collapsed": false
   },
   "id": "c8e7dba46c71fd0d"
  },
  {
   "cell_type": "markdown",
   "source": [
    "## P-value Satisfaction check."
   ],
   "metadata": {
    "collapsed": false
   },
   "id": "1d4d0bdc179a110c"
  },
  {
   "cell_type": "code",
   "outputs": [
    {
     "name": "stdout",
     "output_type": "stream",
     "text": [
      "Difference: 0.0, P-value[potential FPR]: 0.5348\n",
      "Difference: -1.0, P-value[potential FPR]: 0.4498\n",
      "Difference: -2.0, P-value[potential FPR]: 0.3632\n",
      "Difference: -3.0, P-value[potential FPR]: 0.2777\n",
      "Difference: -4.0, P-value[potential FPR]: 0.2067\n",
      "Difference: -5.0, P-value[potential FPR]: 0.1464\n",
      "Difference: -6.0, P-value[potential FPR]: 0.1013\n",
      "Difference: -7.0, P-value[potential FPR]: 0.0685\n",
      "Difference: -8.0, P-value[potential FPR]: 0.0437\n",
      "Difference: -9.0, P-value[potential FPR]: 0.0277\n",
      "Difference: -10.0, P-value[potential FPR]: 0.0169\n",
      "Difference: -11.0, P-value[potential FPR]: 0.0099\n",
      "Difference: -12.0, P-value[potential FPR]: 0.0053\n",
      "Difference: -13.0, P-value[potential FPR]: 0.0030\n",
      "Difference: -14.0, P-value[potential FPR]: 0.0014\n",
      "Difference: -15.0, P-value[potential FPR]: 0.0004\n",
      "Difference: -16.0, P-value[potential FPR]: 0.0002\n"
     ]
    }
   ],
   "source": [
    "sample_size = 115\n",
    "baseline = 0.8\n",
    "\n",
    "n = 10_000\n",
    "result = []\n",
    "for i in range(n):\n",
    "    np.random.seed(i)\n",
    "    result.append(np.random.binomial(sample_size, baseline))  # Размер выборки в эксперименте + вероятность удовлетворенности (baseline)\n",
    "\n",
    "df = pd.DataFrame({\"exp\": result})\n",
    "df[\"difference\"] = df[\"exp\"] - sample_size * baseline  # Считаем отклонения от нормы и только в сторону уменьшения.\n",
    "\n",
    "# Посчитаем потенциальный FPR для каждого полученного отклонения от нормы, но только в меньшую сторону\n",
    "diff = df[df[\"difference\"] <= 0][\"difference\"].unique().tolist()\n",
    "diff.sort()\n",
    "\n",
    "for i in diff[::-1]:\n",
    "    result = (df[\"difference\"] <= i).mean()\n",
    "    print(f\"Difference: {i}, P-value[potential FPR]: {result:.4f}\")"
   ],
   "metadata": {
    "collapsed": false,
    "ExecuteTime": {
     "end_time": "2024-03-19T09:14:02.587558Z",
     "start_time": "2024-03-19T09:14:02.547759Z"
    }
   },
   "id": "55fb1d606b20788c",
   "execution_count": 138
  },
  {
   "cell_type": "markdown",
   "source": [
    "Итого. Мы получили шкалу оценки `P-value` (потенциального `FPR`) для каждого из возможных отклонений от нормы. И трактовать это нужно следующим образом:\n",
    "- При отклонении от нормы в -8 \"Людей\" мы в 4% можем получать ложное срабатывание\n"
   ],
   "metadata": {
    "collapsed": false
   },
   "id": "bf786492a8db0d92"
  },
  {
   "cell_type": "markdown",
   "source": [
    "## P-value with statistical test"
   ],
   "metadata": {
    "collapsed": false
   },
   "id": "f011bb30b54327cd"
  },
  {
   "cell_type": "code",
   "outputs": [],
   "source": [
    "from statsmodels.stats.proportion import proportions_ztest"
   ],
   "metadata": {
    "collapsed": false,
    "ExecuteTime": {
     "end_time": "2024-03-19T09:14:03.045073Z",
     "start_time": "2024-03-19T09:14:03.043113Z"
    }
   },
   "id": "9303ee154e1d463c",
   "execution_count": 139
  },
  {
   "cell_type": "code",
   "outputs": [
    {
     "data": {
      "text/plain": "0.0437"
     },
     "execution_count": 140,
     "metadata": {},
     "output_type": "execute_result"
    }
   ],
   "source": [
    "# Monte-Carlo\n",
    "sample_size = 115\n",
    "baseline = 0.8\n",
    "\n",
    "n = 10_000\n",
    "result = []\n",
    "for i in range(n):\n",
    "    np.random.seed(i)\n",
    "    result.append(np.random.binomial(sample_size, baseline))\n",
    "\n",
    "df = pd.DataFrame({\"exp\": result})\n",
    "df[\"difference\"] = df[\"exp\"] - sample_size * baseline\n",
    "\n",
    "(df[\"difference\"] <= -8).mean()"
   ],
   "metadata": {
    "collapsed": false,
    "ExecuteTime": {
     "end_time": "2024-03-19T09:14:03.291138Z",
     "start_time": "2024-03-19T09:14:03.252865Z"
    }
   },
   "id": "fbccd43eaa61e384",
   "execution_count": 140
  },
  {
   "cell_type": "code",
   "outputs": [
    {
     "data": {
      "text/plain": "0.046362399106540116"
     },
     "execution_count": 141,
     "metadata": {},
     "output_type": "execute_result"
    }
   ],
   "source": [
    "# StatTest\n",
    "proportions_ztest(84, sample_size, baseline, alternative=\"smaller\")[1]"
   ],
   "metadata": {
    "collapsed": false,
    "ExecuteTime": {
     "end_time": "2024-03-19T09:14:03.694925Z",
     "start_time": "2024-03-19T09:14:03.692385Z"
    }
   },
   "id": "81dee2a2a1891a59",
   "execution_count": 141
  },
  {
   "cell_type": "code",
   "outputs": [
    {
     "data": {
      "text/plain": "<Figure size 640x480 with 1 Axes>",
      "image/png": "[encoded data removed]"
     },
     "metadata": {},
     "output_type": "display_data"
    }
   ],
   "source": [
    "# Рассчитаем \"шкалу\" p-values через СтатТест для данных из раздела P-value Satisfaction check\n",
    "pvals = df[df[\"difference\"] < 0].drop_duplicates() # Оставляем только уникальные комбинации людей/отклонений в эксперименте и только < 0\n",
    "pvals[\"p_value\"] = pvals[\"exp\"].apply(lambda x: proportions_ztest(x, sample_size, baseline, alternative=\"smaller\")[1])\n",
    "pvals.sort_values(by=\"difference\", inplace=True, ascending=False)\n",
    "pvals.reset_index(inplace=True, drop=True)\n",
    "\n",
    " \n",
    "pvals[\"p_value\"].plot();"
   ],
   "metadata": {
    "collapsed": false,
    "ExecuteTime": {
     "end_time": "2024-03-19T09:17:03.428641Z",
     "start_time": "2024-03-19T09:17:03.358256Z"
    }
   },
   "id": "60b1b13ff2de86a7",
   "execution_count": 153
  },
  {
   "cell_type": "code",
   "outputs": [],
   "source": [],
   "metadata": {
    "collapsed": false,
    "ExecuteTime": {
     "end_time": "2024-03-19T09:11:10.261744Z",
     "start_time": "2024-03-19T09:11:10.259913Z"
    }
   },
   "id": "53c4f43d45d5bce9",
   "execution_count": 118
  },
  {
   "cell_type": "code",
   "outputs": [],
   "source": [],
   "metadata": {
    "collapsed": false
   },
   "id": "7f2d25992560fb03"
  }
 ],
 "metadata": {
  "kernelspec": {
   "display_name": "Python 3",
   "language": "python",
   "name": "python3"
  },
  "language_info": {
   "codemirror_mode": {
    "name": "ipython",
    "version": 2
   },
   "file_extension": ".py",
   "mimetype": "text/x-python",
   "name": "python",
   "nbconvert_exporter": "python",
   "pygments_lexer": "ipython2",
   "version": "2.7.6"
  }
 },
 "nbformat": 4,
 "nbformat_minor": 5
}

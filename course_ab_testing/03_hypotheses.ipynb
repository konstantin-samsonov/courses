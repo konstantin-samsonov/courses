{
 "cells": [
  {
   "cell_type": "code",
   "execution_count": 2,
   "id": "initial_id",
   "metadata": {
    "collapsed": true,
    "ExecuteTime": {
     "end_time": "2024-03-18T09:38:53.081654Z",
     "start_time": "2024-03-18T09:38:53.078099Z"
    }
   },
   "outputs": [],
   "source": [
    "import pandas as pd\n",
    "import numpy as np"
   ]
  },
  {
   "cell_type": "markdown",
   "source": [
    "# Алгоритм проверки гипотез\n",
    "__Задача__ - разработать процедуру проверки подбрасываемой монеты на честность. \n",
    "\n",
    "__Алгоритм:__\n",
    "1. Формулируем гипотезы:\n",
    "    - $H_{0}$ - монета честная, Орел выпадает в 50% случаев; \n",
    "    - $H_{1}$ - монета не честная. Орел выпадает не в 50% случаев;\n",
    "2. Собираем доказательства, которые смогут опровергнуть $H_{0}$ - проводим эксперимент.\n",
    "3. Оцениваем собранные доказательства через вопросы - _\"Насколько сильно полученные данные противоречат $H_{0}$? Достаточно ли силы у полученных данных, чтобы опровергнуть $H_{}0$?\"_\n",
    "4. Формируем процедуру проверки:\n",
    "    - Так как проверка на честность не имеет направления (не важно, что выпадает чаще Орел/Решка), то для упрощения решения можно смотреть только __модуль__ значения отклонения от нормы. \n",
    "    - Так как проверка будет иметь бинарный ответ (монета честная или нет), то мы можем использовать метрики бинарных тестов (`TPR`, `FPR`, `MDE`) для оценки качества разрабатываемой процедуры по соответствующим метрикам (`TPR`, `FPR`, `MDE`).\n",
    "    - Раз у нас будут метрики, то перед началом разработки самой процедуры стоит зафиксировать желаемые метрики.  \n",
    "5. Проверяем процедуру проверки монеты используя возможности метода Монте-Карло.\n"
   ],
   "metadata": {
    "collapsed": false
   },
   "id": "3d9831379912a823"
  },
  {
   "cell_type": "markdown",
   "source": [
    "## Coin check\n",
    "\n",
    "Желаемые метрики:\n",
    "- `MDE`: 10% - какую разницу хотим детектировать;\n",
    "- `Power[1 - beta]` or `TPR`: 80% - в скольки % случаев наша процедура должна корректно определять нечестность монеты;\n",
    "- `Signigicance[alpha]` or `FPR`: 5% - в скольки % случаев наша процедура может ошибаться и допускать ошибку 1-го рода;"
   ],
   "metadata": {
    "collapsed": false
   },
   "id": "6191cbb993e5091e"
  },
  {
   "cell_type": "code",
   "outputs": [],
   "source": [
    "def coin_check(sample_size=None, threshold=None, mde=None, n=None):\n",
    "    \"\"\"\n",
    "    Функция, которая выполняет процедуру проверки честности монеты в соответствии с заданными метриками.\n",
    "    :param sample_size: Размер выборки (количество бросков монетки в одном эксперименте).\n",
    "    :param threshold: Порог отклонения от нормы.\n",
    "    :param mde: Желаемый уровень детектирования честности/не честности монетки.\n",
    "    :param n: Количество экспериментов.\n",
    "    :return: Метрики проведенных экспериментов. \n",
    "    \"\"\"\n",
    "    \n",
    "    # TPR \n",
    "    tpr = []\n",
    "    for i in range(n):\n",
    "        np.random.seed(i)\n",
    "        tpr.append(np.random.binomial(sample_size, 0.5 + mde))\n",
    "\n",
    "    # FPR \n",
    "    fpr = []\n",
    "    for i in range(n):\n",
    "        np.random.seed(i)\n",
    "        fpr.append(np.random.binomial(sample_size, 0.5))\n",
    "\n",
    "    # Metrics\n",
    "    df = pd.DataFrame({\"tpr\": tpr, \"fpr\": fpr})\n",
    "    df[\"tpr_difference\"] = abs(sample_size * 0.5 - df[\"tpr\"])\n",
    "    df[\"fpr_difference\"] = abs(sample_size * 0.5 - df[\"fpr\"])\n",
    "    tpr_result = (df[\"tpr_difference\"] >= sample_size * threshold).mean()\n",
    "    fpr_result = (df[\"fpr_difference\"] >= sample_size * threshold).mean()\n",
    "\n",
    "    # Results\n",
    "    print(f\"Sample size: {sample_size}, Threshold: {threshold:.2%}|{sample_size * threshold:.2f}, TPR: {tpr_result:.2%}, FPR: {fpr_result:.2%}, MDE: {mde:.2%}\")\n"
   ],
   "metadata": {
    "collapsed": false,
    "ExecuteTime": {
     "end_time": "2024-03-18T10:58:00.712873Z",
     "start_time": "2024-03-18T10:58:00.708230Z"
    }
   },
   "id": "acabfb5268f43948",
   "execution_count": 98
  },
  {
   "cell_type": "code",
   "outputs": [
    {
     "name": "stdout",
     "output_type": "stream",
     "text": [
      "Sample size: 10, Threshold: 5.00%|0.50, TPR: 79.71%, FPR: 75.48%, MDE: 10.00%\n",
      "Sample size: 100, Threshold: 5.00%|5.00, TPR: 87.03%, FPR: 36.97%, MDE: 10.00%\n",
      "Sample size: 150, Threshold: 5.00%|7.50, TPR: 89.37%, FPR: 22.05%, MDE: 10.00%\n",
      "Sample size: 200, Threshold: 5.00%|10.00, TPR: 93.49%, FPR: 17.99%, MDE: 10.00%\n",
      "Sample size: 250, Threshold: 5.00%|12.50, TPR: 94.60%, FPR: 11.51%, MDE: 10.00%\n"
     ]
    }
   ],
   "source": [
    "for i in [10, 100, 150, 200, 250]:\n",
    "    coin_check(sample_size=i, threshold=0.05, mde=0.1, n=100_000)"
   ],
   "metadata": {
    "collapsed": false,
    "ExecuteTime": {
     "end_time": "2024-03-18T11:05:30.793389Z",
     "start_time": "2024-03-18T11:05:28.500670Z"
    }
   },
   "id": "ee66219fdce961cd",
   "execution_count": 103
  },
  {
   "cell_type": "code",
   "outputs": [
    {
     "name": "stdout",
     "output_type": "stream",
     "text": [
      "Sample size: 10, Threshold: 6.00%|0.60, TPR: 79.71%, FPR: 75.48%, MDE: 10.00%\n",
      "Sample size: 100, Threshold: 6.00%|6.00, TPR: 82.11%, FPR: 27.21%, MDE: 10.00%\n",
      "Sample size: 150, Threshold: 6.00%|9.00, TPR: 86.10%, FPR: 16.42%, MDE: 10.00%\n",
      "Sample size: 200, Threshold: 6.00%|12.00, TPR: 89.07%, FPR: 10.46%, MDE: 10.00%\n",
      "Sample size: 250, Threshold: 6.00%|15.00, TPR: 91.25%, FPR: 6.69%, MDE: 10.00%\n"
     ]
    }
   ],
   "source": [
    "for i in [10, 100, 150, 200, 250]:\n",
    "    coin_check(sample_size=i, threshold=0.06, mde=0.1, n=100_000)"
   ],
   "metadata": {
    "collapsed": false,
    "ExecuteTime": {
     "end_time": "2024-03-18T10:58:05.774234Z",
     "start_time": "2024-03-18T10:58:03.469353Z"
    }
   },
   "id": "594a92f082f105be",
   "execution_count": 100
  },
  {
   "cell_type": "code",
   "outputs": [
    {
     "name": "stdout",
     "output_type": "stream",
     "text": [
      "Sample size: 10, Threshold: 7.00%|0.70, TPR: 79.71%, FPR: 75.48%, MDE: 10.00%\n",
      "Sample size: 100, Threshold: 7.00%|7.00, TPR: 69.64%, FPR: 13.29%, MDE: 10.00%\n",
      "Sample size: 150, Threshold: 7.00%|10.50, TPR: 77.30%, FPR: 8.55%, MDE: 10.00%\n",
      "Sample size: 200, Threshold: 7.00%|14.00, TPR: 78.68%, FPR: 4.01%, MDE: 10.00%\n",
      "Sample size: 250, Threshold: 7.00%|17.50, TPR: 83.44%, FPR: 2.69%, MDE: 10.00%\n"
     ]
    }
   ],
   "source": [
    "for i in [10, 100, 150, 200, 250]:\n",
    "    coin_check(sample_size=i, threshold=0.07, mde=0.1, n=100_000)"
   ],
   "metadata": {
    "collapsed": false,
    "ExecuteTime": {
     "end_time": "2024-03-18T10:58:07.980342Z",
     "start_time": "2024-03-18T10:58:05.774930Z"
    }
   },
   "id": "2d2fe31412a1d87f",
   "execution_count": 101
  },
  {
   "cell_type": "markdown",
   "source": [
    "Перебрав несколько вариантов `sample_size` и `threshold` находим наилучший вариант параметров для заданных нами метрик.\n",
    "- Хотим получить: `MDE` - 10%, `TPR` - 80%, `FPR` - 5%\n",
    "- При `Sample size` - 250 и `Threshold` - 7% получили: `MDE` - 10%, `TPR` - 83.44%, `FPR` - 2.69%   "
   ],
   "metadata": {
    "collapsed": false
   },
   "id": "9238bdbc227e4847"
  },
  {
   "cell_type": "markdown",
   "source": [
    "## Satisfaction check\n",
    "__Задача__ - Мы знаем на основании исторических данных, что удовлетворенность покупателей нашего магазина 80%. Но, в последнее время есть подозрения, что удовлетворенность покупателей снизилась. Необходимо понять - так ли это на самом деле. \n",
    "\n",
    "__Алгоритм:__\n",
    "1. Формулируем гипотезы:\n",
    "    - $H_{0}$ - удовлетворенность клиентов 80%; \n",
    "    - $H_{1}$ - удовлетворенность клиентов меньше 80%;\n",
    "2. Желаемые метрики:\n",
    "    - `MDE`: 10%;\n",
    "    - `Power[1 - beta]` or `TPR`: 80%;\n",
    "    - `Signigicance[alpha]` or `FPR`: 5%;\n"
   ],
   "metadata": {
    "collapsed": false
   },
   "id": "4a4fe9a5c2b33a60"
  },
  {
   "cell_type": "code",
   "outputs": [],
   "source": [
    "def satisfaction_check(sample_size=None, threshold=None, mde=None, n=None, baseline=None):\n",
    "    \"\"\"\n",
    "    Функция, которая выполняет процедуру проверки уменьшения удовлетворенности покупателей.\n",
    "    :param sample_size: Размер выборки (какому количеству покупателей звоним и спрашиваем их удовлетворенность?).\n",
    "    :param threshold: Порог отклонения от нормы.\n",
    "    :param mde: Желаемый уровень детектирования изменения удовлетворенности\n",
    "    :param n: Количество экспериментов.\n",
    "    :return: Метрики проведенных экспериментов. \n",
    "    \"\"\"\n",
    "\n",
    "    # TPR \n",
    "    tpr = []\n",
    "    for i in range(n):\n",
    "        np.random.seed(i)\n",
    "        tpr.append(np.random.binomial(sample_size, baseline - mde))\n",
    "\n",
    "    # FPR \n",
    "    fpr = []\n",
    "    for i in range(n):\n",
    "        np.random.seed(i)\n",
    "        fpr.append(np.random.binomial(sample_size, baseline))\n",
    "\n",
    "    # Metrics\n",
    "    df = pd.DataFrame({\"tpr\": tpr, \"fpr\": fpr})\n",
    "    df[\"tpr_difference\"] = df[\"tpr\"] - sample_size * baseline\n",
    "    df[\"fpr_difference\"] = df[\"fpr\"] - sample_size * baseline\n",
    "    \n",
    "    tpr_result = (df[\"tpr_difference\"] <= -1 * sample_size * threshold).mean()\n",
    "    fpr_result = (df[\"fpr_difference\"] <= -1 * sample_size * threshold).mean()\n",
    "\n",
    "    # Results\n",
    "    print(f\"Sample size: {sample_size}, Threshold: {threshold:.2%}|{sample_size * threshold:.2f}, TPR: {tpr_result:.2%}, FPR: {fpr_result:.2%}, MDE: {mde:.2%}\")\n"
   ],
   "metadata": {
    "collapsed": false,
    "ExecuteTime": {
     "end_time": "2024-03-18T11:26:27.532825Z",
     "start_time": "2024-03-18T11:26:27.527453Z"
    }
   },
   "id": "eca2606a1b479054",
   "execution_count": 111
  },
  {
   "cell_type": "code",
   "outputs": [
    {
     "name": "stdout",
     "output_type": "stream",
     "text": [
      "Sample size: 10, Threshold: 5.00%|0.50, TPR: 61.83%, FPR: 32.27%, MDE: 10.00%\n",
      "Sample size: 100, Threshold: 5.00%|5.00, TPR: 88.58%, FPR: 13.11%, MDE: 10.00%\n",
      "Sample size: 110, Threshold: 5.00%|5.50, TPR: 87.32%, FPR: 9.77%, MDE: 10.00%\n",
      "Sample size: 120, Threshold: 5.00%|6.00, TPR: 90.38%, FPR: 10.70%, MDE: 10.00%\n",
      "Sample size: 130, Threshold: 5.00%|6.50, TPR: 89.43%, FPR: 8.03%, MDE: 10.00%\n"
     ]
    }
   ],
   "source": [
    "for i in [10, 100, 110, 120, 130]:\n",
    "    satisfaction_check(sample_size=i, threshold=0.05, mde=0.1, n=100_000, baseline=0.8)"
   ],
   "metadata": {
    "collapsed": false,
    "ExecuteTime": {
     "end_time": "2024-03-18T11:36:57.735869Z",
     "start_time": "2024-03-18T11:36:55.444373Z"
    }
   },
   "id": "7038c26cdd3ab6dd",
   "execution_count": 118
  },
  {
   "cell_type": "code",
   "outputs": [
    {
     "name": "stdout",
     "output_type": "stream",
     "text": [
      "Sample size: 10, Threshold: 6.00%|0.60, TPR: 61.83%, FPR: 32.27%, MDE: 10.00%\n",
      "Sample size: 100, Threshold: 6.00%|6.00, TPR: 83.60%, FPR: 8.78%, MDE: 10.00%\n",
      "Sample size: 110, Threshold: 6.00%|6.60, TPR: 82.25%, FPR: 6.48%, MDE: 10.00%\n",
      "Sample size: 120, Threshold: 6.00%|7.20, TPR: 81.23%, FPR: 4.76%, MDE: 10.00%\n",
      "Sample size: 130, Threshold: 6.00%|7.80, TPR: 85.28%, FPR: 5.41%, MDE: 10.00%\n"
     ]
    }
   ],
   "source": [
    "for i in [10, 100, 110, 120, 130]:\n",
    "    satisfaction_check(sample_size=i, threshold=0.06, mde=0.1, n=100_000, baseline=0.8)"
   ],
   "metadata": {
    "collapsed": false,
    "ExecuteTime": {
     "end_time": "2024-03-18T11:37:02.190810Z",
     "start_time": "2024-03-18T11:36:59.826888Z"
    }
   },
   "id": "ef2843905ac9312",
   "execution_count": 119
  },
  {
   "cell_type": "code",
   "outputs": [
    {
     "name": "stdout",
     "output_type": "stream",
     "text": [
      "Sample size: 10, Threshold: 7.00%|0.70, TPR: 61.83%, FPR: 32.27%, MDE: 10.00%\n",
      "Sample size: 100, Threshold: 7.00%|7.00, TPR: 70.40%, FPR: 3.48%, MDE: 10.00%\n",
      "Sample size: 110, Threshold: 7.00%|7.70, TPR: 76.21%, FPR: 4.09%, MDE: 10.00%\n",
      "Sample size: 120, Threshold: 7.00%|8.40, TPR: 75.30%, FPR: 3.03%, MDE: 10.00%\n",
      "Sample size: 130, Threshold: 7.00%|9.10, TPR: 74.61%, FPR: 2.24%, MDE: 10.00%\n"
     ]
    }
   ],
   "source": [
    "for i in [10, 100, 110, 120, 130]:\n",
    "    satisfaction_check(sample_size=i, threshold=0.07, mde=0.1, n=100_000, baseline=0.8)"
   ],
   "metadata": {
    "collapsed": false,
    "ExecuteTime": {
     "end_time": "2024-03-18T11:37:07.610129Z",
     "start_time": "2024-03-18T11:37:05.320691Z"
    }
   },
   "id": "166214577a9e9ea1",
   "execution_count": 120
  },
  {
   "cell_type": "markdown",
   "source": [
    "Итого. Для того чтобы принять $H_{1}$ нам необходимо обзвонить 120 покупателей и если отклонение от нормы (норма = 80% от 120) будет 7 человек и более (threshold = 6% от 120), то мы сможем принять данную гипотезу. И при этом у нас будут выдержанны желаемые (заданные) метрики."
   ],
   "metadata": {
    "collapsed": false
   },
   "id": "149b642b9437a720"
  },
  {
   "cell_type": "code",
   "outputs": [],
   "source": [],
   "metadata": {
    "collapsed": false
   },
   "id": "b9f8919c7293ab41"
  }
 ],
 "metadata": {
  "kernelspec": {
   "display_name": "Python 3",
   "language": "python",
   "name": "python3"
  },
  "language_info": {
   "codemirror_mode": {
    "name": "ipython",
    "version": 2
   },
   "file_extension": ".py",
   "mimetype": "text/x-python",
   "name": "python",
   "nbconvert_exporter": "python",
   "pygments_lexer": "ipython2",
   "version": "2.7.6"
  }
 },
 "nbformat": 4,
 "nbformat_minor": 5
}

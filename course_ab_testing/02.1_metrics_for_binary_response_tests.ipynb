{
 "cells": [
  {
   "cell_type": "markdown",
   "source": [
    "# Вводные\n",
    "- __Данные__ - сгенерированный набор данных с возможными результатами двух тестов на Covid\n",
    "- __Задача__ - проанализировать предоставленные данные и определить есть ли различия в \"проведенных\" тестах."
   ],
   "metadata": {
    "collapsed": false
   }
  },
  {
   "cell_type": "code",
   "execution_count": 2,
   "outputs": [],
   "source": [
    "import pandas as pd\n",
    "from sklearn.metrics import recall_score\n",
    "from sklearn.metrics import confusion_matrix, ConfusionMatrixDisplay"
   ],
   "metadata": {
    "collapsed": false,
    "ExecuteTime": {
     "end_time": "2024-03-07T11:14:22.379963Z",
     "start_time": "2024-03-07T11:14:22.377160Z"
    }
   }
  },
  {
   "cell_type": "code",
   "execution_count": 3,
   "outputs": [],
   "source": [
    "df = pd.read_csv(\"data/covid.csv\")"
   ],
   "metadata": {
    "collapsed": false,
    "ExecuteTime": {
     "end_time": "2024-03-07T11:14:22.835548Z",
     "start_time": "2024-03-07T11:14:22.831348Z"
    }
   }
  },
  {
   "cell_type": "code",
   "execution_count": 5,
   "outputs": [
    {
     "name": "stdout",
     "output_type": "stream",
     "text": [
      "df.shape: (10000, 3)\n"
     ]
    },
    {
     "data": {
      "text/plain": "      y_true  y_pred1  y_pred2\n5017       0        1        0\n5309       0        0        0\n4302       1        0        1\n8635       0        0        0\n6955       1        1        1",
      "text/html": "<div>\n<style scoped>\n    .dataframe tbody tr th:only-of-type {\n        vertical-align: middle;\n    }\n\n    .dataframe tbody tr th {\n        vertical-align: top;\n    }\n\n    .dataframe thead th {\n        text-align: right;\n    }\n</style>\n<table border=\"1\" class=\"dataframe\">\n  <thead>\n    <tr style=\"text-align: right;\">\n      <th></th>\n      <th>y_true</th>\n      <th>y_pred1</th>\n      <th>y_pred2</th>\n    </tr>\n  </thead>\n  <tbody>\n    <tr>\n      <th>5017</th>\n      <td>0</td>\n      <td>1</td>\n      <td>0</td>\n    </tr>\n    <tr>\n      <th>5309</th>\n      <td>0</td>\n      <td>0</td>\n      <td>0</td>\n    </tr>\n    <tr>\n      <th>4302</th>\n      <td>1</td>\n      <td>0</td>\n      <td>1</td>\n    </tr>\n    <tr>\n      <th>8635</th>\n      <td>0</td>\n      <td>0</td>\n      <td>0</td>\n    </tr>\n    <tr>\n      <th>6955</th>\n      <td>1</td>\n      <td>1</td>\n      <td>1</td>\n    </tr>\n  </tbody>\n</table>\n</div>"
     },
     "execution_count": 5,
     "metadata": {},
     "output_type": "execute_result"
    }
   ],
   "source": [
    "print(f\"df.shape: {df.shape}\")\n",
    "df.sample(5)"
   ],
   "metadata": {
    "collapsed": false,
    "ExecuteTime": {
     "end_time": "2024-03-07T11:14:39.324965Z",
     "start_time": "2024-03-07T11:14:39.321202Z"
    }
   }
  },
  {
   "cell_type": "markdown",
   "source": [
    "## Error Rate"
   ],
   "metadata": {
    "collapsed": false
   }
  },
  {
   "cell_type": "code",
   "execution_count": 8,
   "outputs": [
    {
     "name": "stdout",
     "output_type": "stream",
     "text": [
      "Error Rate. pred_1: 18.00%, pred_2: 18.00%\n",
      "Accuracy. pred_1: 82.00%, pred_2: 82.00%\n"
     ]
    }
   ],
   "source": [
    "er_pred1 = (df[\"y_true\"] != df[\"y_pred1\"]).mean()\n",
    "er_pred2 = (df[\"y_true\"] != df[\"y_pred2\"]).mean()\n",
    "print(f\"Error Rate. pred_1: {er_pred1:.2%}, pred_2: {er_pred2:.2%}\\n\"\n",
    "      f\"Accuracy. pred_1: {1 - er_pred1:.2%}, pred_2: {1 - er_pred2:.2%}\")"
   ],
   "metadata": {
    "collapsed": false,
    "ExecuteTime": {
     "end_time": "2024-03-07T11:15:37.806690Z",
     "start_time": "2024-03-07T11:15:37.804268Z"
    }
   }
  },
  {
   "cell_type": "markdown",
   "source": [
    "В обоих тестах процент ошибок/accuracy показывают одинаковые значения. Но не стоит так трактовать эти цифры.\n",
    "Ведь Accuracy:\n",
    "- зависит от сбалансированности классов Positive/Negative\n",
    "- не чувствует разницу между FP/FN\n",
    "\n",
    "Поэтому посчитаем % ошибок отдельно для каждого класса (Positive/Negative)"
   ],
   "metadata": {
    "collapsed": false
   }
  },
  {
   "cell_type": "markdown",
   "source": [
    "## True Positive Rate & True Negative Rate"
   ],
   "metadata": {
    "collapsed": false
   }
  },
  {
   "cell_type": "code",
   "execution_count": 9,
   "outputs": [],
   "source": [
    "positives = df[df[\"y_true\"] == 1].copy()\n",
    "negatives = df[df[\"y_true\"] == 0].copy()"
   ],
   "metadata": {
    "collapsed": false,
    "ExecuteTime": {
     "end_time": "2024-03-07T11:15:45.453156Z",
     "start_time": "2024-03-07T11:15:45.450350Z"
    }
   }
  },
  {
   "cell_type": "code",
   "execution_count": 11,
   "outputs": [
    {
     "name": "stdout",
     "output_type": "stream",
     "text": [
      "Pred_1: TPR [Sensitivity]: 70.50%, True Negative Rate [Specificity]: 93.90%\n",
      "Pred_2: TPR [Sensitivity]: 65.59%, True Negative Rate [Specificity]: 98.98%\n"
     ]
    }
   ],
   "source": [
    "tpr_pred1 = (positives[\"y_true\"] == positives[\"y_pred1\"]).mean()\n",
    "tpr_pred2 = (positives[\"y_true\"] == positives[\"y_pred2\"]).mean()\n",
    "\n",
    "tnr_pred1 = (negatives[\"y_true\"] == negatives[\"y_pred1\"]).mean()\n",
    "tnr_pred2 = (negatives[\"y_true\"] == negatives[\"y_pred2\"]).mean()\n",
    "\n",
    "print(f\"Pred_1: TPR [Sensitivity]: {tpr_pred1:.2%}, True Negative Rate [Specificity]: {tnr_pred1:.2%}\\n\"\n",
    "      f\"Pred_2: TPR [Sensitivity]: {tpr_pred2:.2%}, True Negative Rate [Specificity]: {tnr_pred2:.2%}\")"
   ],
   "metadata": {
    "collapsed": false,
    "ExecuteTime": {
     "end_time": "2024-03-07T11:16:23.735674Z",
     "start_time": "2024-03-07T11:16:23.732642Z"
    }
   }
  },
  {
   "cell_type": "markdown",
   "source": [
    "И вот в таком разрезе разница между тестами сразу становится заметной. Полученные результаты можно трактовать следующим образом:\n",
    "- __Pred_1__. __TPR__ говорит о том, что в 70% случаев данный тест корректно диагностирует заболевание у болеющего человека. А __TNR__ говорит о том, что в 93% случаев данный тест корректно определяет отсутствие болезни у здороовго человека.\n",
    "- __Pred_2__. __TPR__ говорит о том, что в 65% случаев данный тест корректно диагностирует заболевание у болеющего человека. А __TNR__ говорит о том, что в 98% случаев данный тест корректно определяет отсутствие болезни у здорового человека.\n",
    "\n",
    "__Промежуточный итог__ - первый тест лучше диагностирует болезнь у действительно болеющих. Второй тест лучше диагностирует отсутствие болезни у здоровых."
   ],
   "metadata": {
    "collapsed": false
   }
  },
  {
   "cell_type": "code",
   "execution_count": 14,
   "outputs": [
    {
     "name": "stdout",
     "output_type": "stream",
     "text": [
      "Pred_1[manual|sklearn]: TPR: 70.5015%|70.5015%, TNR: 93.8962%|93.8962%\n",
      "Pred_2[manual|sklearn]: TPR: 65.5851%|65.5851%, TNR: 98.9827%|98.9827%\n"
     ]
    }
   ],
   "source": [
    "# Проверим расчеты на уже готовых функциях\n",
    "tpr_pred1_sl = recall_score(df[\"y_true\"], df[\"y_pred1\"])\n",
    "tnr_pred1_sl = recall_score(df[\"y_true\"], df[\"y_pred1\"], pos_label=0)\n",
    "tpr_pred2_sl = recall_score(df[\"y_true\"], df[\"y_pred2\"])\n",
    "tnr_pred2_sl = recall_score(df[\"y_true\"], df[\"y_pred2\"], pos_label=0)\n",
    "\n",
    "print(f\"Pred_1[manual|sklearn]: TPR: {tpr_pred1:.4%}|{tpr_pred1_sl:.4%}, TNR: {tnr_pred1:.4%}|{tnr_pred1_sl:.4%}\\n\"\n",
    "      f\"Pred_2[manual|sklearn]: TPR: {tpr_pred2:.4%}|{tpr_pred2_sl:.4%}, TNR: {tnr_pred2:.4%}|{tnr_pred2_sl:.4%}\\n\")\n"
   ],
   "metadata": {
    "collapsed": false,
    "ExecuteTime": {
     "end_time": "2024-03-07T11:18:00.066384Z",
     "start_time": "2024-03-07T11:18:00.053271Z"
    }
   }
  },
  {
   "cell_type": "markdown",
   "source": [
    "## Confusion Matrix"
   ],
   "metadata": {
    "collapsed": false
   }
  },
  {
   "cell_type": "code",
   "execution_count": 17,
   "outputs": [
    {
     "data": {
      "text/plain": "<Figure size 640x480 with 2 Axes>",
      "image/png": "[encoded data removed]"
     },
     "metadata": {},
     "output_type": "display_data"
    }
   ],
   "source": [
    "cm = confusion_matrix(df['y_true'], df['y_pred1'])\n",
    "disp = ConfusionMatrixDisplay(confusion_matrix=cm)\n",
    "disp.plot();"
   ],
   "metadata": {
    "collapsed": false,
    "ExecuteTime": {
     "end_time": "2024-03-07T11:18:53.266354Z",
     "start_time": "2024-03-07T11:18:53.153815Z"
    }
   }
  },
  {
   "cell_type": "code",
   "execution_count": 18,
   "outputs": [
    {
     "data": {
      "text/plain": "<Figure size 640x480 with 2 Axes>",
      "image/png": "[encoded data removed]"
     },
     "metadata": {},
     "output_type": "display_data"
    }
   ],
   "source": [
    "cm = confusion_matrix(df['y_true'], df['y_pred2'])\n",
    "disp = ConfusionMatrixDisplay(confusion_matrix=cm)\n",
    "disp.plot();"
   ],
   "metadata": {
    "collapsed": false,
    "ExecuteTime": {
     "end_time": "2024-03-07T11:18:57.385893Z",
     "start_time": "2024-03-07T11:18:57.316166Z"
    }
   }
  },
  {
   "cell_type": "markdown",
   "source": [
    "# Вводные\n",
    "- __Данные__ - сгенерированный набор данных с возможными результатами двух тестов на беременность.\n",
    "- __Задача__ - проанализировать предоставленные данные и определить есть ли различия в \"проведенных\" тестах."
   ],
   "metadata": {
    "collapsed": false
   }
  },
  {
   "cell_type": "code",
   "execution_count": 19,
   "outputs": [],
   "source": [
    "df = pd.read_csv(\"data/pregnancy.csv\")"
   ],
   "metadata": {
    "collapsed": false,
    "ExecuteTime": {
     "end_time": "2024-03-07T11:19:03.021924Z",
     "start_time": "2024-03-07T11:19:03.015422Z"
    }
   }
  },
  {
   "cell_type": "code",
   "execution_count": 20,
   "outputs": [
    {
     "name": "stdout",
     "output_type": "stream",
     "text": [
      "df.shape: (10000, 3)\n"
     ]
    },
    {
     "data": {
      "text/plain": "      y_true  y_pred1  y_pred2\n5653       0        0        0\n8331       0        0        0\n1204       1        1        1\n7151       0        0        0\n7026       0        0        0",
      "text/html": "<div>\n<style scoped>\n    .dataframe tbody tr th:only-of-type {\n        vertical-align: middle;\n    }\n\n    .dataframe tbody tr th {\n        vertical-align: top;\n    }\n\n    .dataframe thead th {\n        text-align: right;\n    }\n</style>\n<table border=\"1\" class=\"dataframe\">\n  <thead>\n    <tr style=\"text-align: right;\">\n      <th></th>\n      <th>y_true</th>\n      <th>y_pred1</th>\n      <th>y_pred2</th>\n    </tr>\n  </thead>\n  <tbody>\n    <tr>\n      <th>5653</th>\n      <td>0</td>\n      <td>0</td>\n      <td>0</td>\n    </tr>\n    <tr>\n      <th>8331</th>\n      <td>0</td>\n      <td>0</td>\n      <td>0</td>\n    </tr>\n    <tr>\n      <th>1204</th>\n      <td>1</td>\n      <td>1</td>\n      <td>1</td>\n    </tr>\n    <tr>\n      <th>7151</th>\n      <td>0</td>\n      <td>0</td>\n      <td>0</td>\n    </tr>\n    <tr>\n      <th>7026</th>\n      <td>0</td>\n      <td>0</td>\n      <td>0</td>\n    </tr>\n  </tbody>\n</table>\n</div>"
     },
     "execution_count": 20,
     "metadata": {},
     "output_type": "execute_result"
    }
   ],
   "source": [
    "print(f\"df.shape: {df.shape}\")\n",
    "df.sample(5)"
   ],
   "metadata": {
    "collapsed": false,
    "ExecuteTime": {
     "end_time": "2024-03-07T11:19:03.390221Z",
     "start_time": "2024-03-07T11:19:03.385064Z"
    }
   }
  },
  {
   "cell_type": "code",
   "execution_count": 21,
   "outputs": [
    {
     "name": "stdout",
     "output_type": "stream",
     "text": [
      "Pred_1: TPR: 99.02%, TNR: 90.84%\n",
      "Pred_2: TPR: 95.08%, TNR: 94.91%\n"
     ]
    }
   ],
   "source": [
    "tpr_pred1 = recall_score(df[\"y_true\"], df[\"y_pred1\"])\n",
    "tnr_pred1 = recall_score(df[\"y_true\"], df[\"y_pred1\"], pos_label=0)\n",
    "tpr_pred2 = recall_score(df[\"y_true\"], df[\"y_pred2\"])\n",
    "tnr_pred2 = recall_score(df[\"y_true\"], df[\"y_pred2\"], pos_label=0)\n",
    "\n",
    "print(f\"Pred_1: TPR: {tpr_pred1:.2%}, TNR: {tnr_pred1:.2%}\\n\"\n",
    "      f\"Pred_2: TPR: {tpr_pred2:.2%}, TNR: {tnr_pred2:.2%}\")"
   ],
   "metadata": {
    "collapsed": false,
    "ExecuteTime": {
     "end_time": "2024-03-07T11:19:05.920205Z",
     "start_time": "2024-03-07T11:19:05.898Z"
    }
   }
  },
  {
   "cell_type": "code",
   "execution_count": 25,
   "outputs": [],
   "source": [
    "cm = confusion_matrix(df['y_true'], df['y_pred1'])\n",
    "disp = ConfusionMatrixDisplay(confusion_matrix=cm)\n",
    "# disp.plot();"
   ],
   "metadata": {
    "collapsed": false,
    "ExecuteTime": {
     "end_time": "2024-03-07T11:19:26.628029Z",
     "start_time": "2024-03-07T11:19:26.624627Z"
    }
   }
  },
  {
   "cell_type": "code",
   "execution_count": 26,
   "outputs": [],
   "source": [
    "cm = confusion_matrix(df['y_true'], df['y_pred2'])\n",
    "disp = ConfusionMatrixDisplay(confusion_matrix=cm)\n",
    "# disp.plot()"
   ],
   "metadata": {
    "collapsed": false,
    "ExecuteTime": {
     "end_time": "2024-03-07T11:19:27.135316Z",
     "start_time": "2024-03-07T11:19:27.131355Z"
    }
   }
  },
  {
   "cell_type": "markdown",
   "source": [
    "Полученные результаты можно трактовать следующим образом:\n",
    "- __Pred_1__. __TPR__ говорит о том, что в 99% случаев данный тест корректно диагностирует наличие беременности у беременных. А __TNR__ говорит о том, что в 90% случаев данный тест корректно определяет отсутствие беременности у не беременных.\n",
    "- __Pred_2__. __TPR__ говорит о том, что в 95% случаев данный тест корректно диагностирует наличие беременности у беременных. А __TNR__ говорит о том, что в 94% случаев данный тест корректно определяет отсутствие беременности у не беременных."
   ],
   "metadata": {
    "collapsed": false
   }
  },
  {
   "cell_type": "code",
   "execution_count": null,
   "outputs": [],
   "source": [],
   "metadata": {
    "collapsed": false
   }
  }
 ],
 "metadata": {
  "kernelspec": {
   "display_name": "Python 3",
   "language": "python",
   "name": "python3"
  },
  "language_info": {
   "codemirror_mode": {
    "name": "ipython",
    "version": 2
   },
   "file_extension": ".py",
   "mimetype": "text/x-python",
   "name": "python",
   "nbconvert_exporter": "python",
   "pygments_lexer": "ipython2",
   "version": "2.7.6"
  }
 },
 "nbformat": 4,
 "nbformat_minor": 0
}

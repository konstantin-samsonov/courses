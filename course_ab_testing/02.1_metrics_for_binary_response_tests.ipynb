{
 "cells": [
  {
   "cell_type": "markdown",
   "source": [
    "# Вводные\n",
    "- __Данные__ - сгенерированный набор данных с возможными результатами двух тестов на Covid\n",
    "- __Задача__ - проанализировать предоставленные данные и определить есть ли различия в \"проведенных\" тестах."
   ],
   "metadata": {
    "collapsed": false
   }
  },
  {
   "cell_type": "code",
   "execution_count": 93,
   "outputs": [],
   "source": [
    "import pandas as pd\n",
    "from sklearn.metrics import recall_score\n",
    "from sklearn.metrics import confusion_matrix, ConfusionMatrixDisplay"
   ],
   "metadata": {
    "collapsed": false,
    "ExecuteTime": {
     "end_time": "2024-02-29T13:25:20.731561Z",
     "start_time": "2024-02-29T13:25:20.720040Z"
    }
   }
  },
  {
   "cell_type": "code",
   "execution_count": 65,
   "outputs": [],
   "source": [
    "df = pd.read_csv(\"data/covid.csv\")"
   ],
   "metadata": {
    "collapsed": false,
    "ExecuteTime": {
     "end_time": "2024-02-29T12:42:05.143245Z",
     "start_time": "2024-02-29T12:42:05.130159Z"
    }
   }
  },
  {
   "cell_type": "code",
   "execution_count": 66,
   "outputs": [
    {
     "name": "stdout",
     "output_type": "stream",
     "text": [
      "df.shape: (10000, 3)\n"
     ]
    },
    {
     "data": {
      "text/plain": "      y_true  y_pred1  y_pred2\n8346       0        0        0\n1562       0        0        0\n1359       0        0        0\n2949       0        0        0\n341        0        0        0",
      "text/html": "<div>\n<style scoped>\n    .dataframe tbody tr th:only-of-type {\n        vertical-align: middle;\n    }\n\n    .dataframe tbody tr th {\n        vertical-align: top;\n    }\n\n    .dataframe thead th {\n        text-align: right;\n    }\n</style>\n<table border=\"1\" class=\"dataframe\">\n  <thead>\n    <tr style=\"text-align: right;\">\n      <th></th>\n      <th>y_true</th>\n      <th>y_pred1</th>\n      <th>y_pred2</th>\n    </tr>\n  </thead>\n  <tbody>\n    <tr>\n      <th>8346</th>\n      <td>0</td>\n      <td>0</td>\n      <td>0</td>\n    </tr>\n    <tr>\n      <th>1562</th>\n      <td>0</td>\n      <td>0</td>\n      <td>0</td>\n    </tr>\n    <tr>\n      <th>1359</th>\n      <td>0</td>\n      <td>0</td>\n      <td>0</td>\n    </tr>\n    <tr>\n      <th>2949</th>\n      <td>0</td>\n      <td>0</td>\n      <td>0</td>\n    </tr>\n    <tr>\n      <th>341</th>\n      <td>0</td>\n      <td>0</td>\n      <td>0</td>\n    </tr>\n  </tbody>\n</table>\n</div>"
     },
     "execution_count": 66,
     "metadata": {},
     "output_type": "execute_result"
    }
   ],
   "source": [
    "print(f\"df.shape: {df.shape}\")\n",
    "df.sample(5)"
   ],
   "metadata": {
    "collapsed": false,
    "ExecuteTime": {
     "end_time": "2024-02-29T12:42:05.477995Z",
     "start_time": "2024-02-29T12:42:05.444166Z"
    }
   }
  },
  {
   "cell_type": "markdown",
   "source": [
    "## Error Rate"
   ],
   "metadata": {
    "collapsed": false
   }
  },
  {
   "cell_type": "code",
   "execution_count": 69,
   "outputs": [
    {
     "name": "stdout",
     "output_type": "stream",
     "text": [
      "Error Rate. pred_1: 0.18, pred_2: 0.18\n",
      "Accuracy. pred_1: 82.00%, pred_2: 82.00%\n"
     ]
    }
   ],
   "source": [
    "er_pred1 = (df[\"y_true\"] != df[\"y_pred1\"]).mean()\n",
    "er_pred2 = (df[\"y_true\"] != df[\"y_pred2\"]).mean()\n",
    "print(f\"Error Rate. pred_1: {er_pred1}, pred_2: {er_pred2}\\n\"\n",
    "      f\"Accuracy. pred_1: {1 - er_pred1:.2%}, pred_2: {1 - er_pred2:.2%}\")"
   ],
   "metadata": {
    "collapsed": false,
    "ExecuteTime": {
     "end_time": "2024-02-29T12:43:47.562585Z",
     "start_time": "2024-02-29T12:43:47.554673Z"
    }
   }
  },
  {
   "cell_type": "markdown",
   "source": [
    "В обоих тестах процент ошибок/accuracy показывают одинаковые значения. Но не стоит так трактовать эти цифры.\n",
    "Ведь Accuracy:\n",
    "- зависит от сбалансированности классов Positive/Negative\n",
    "- не чувствует разницу между FP/FN\n",
    "\n",
    "Поэтому посчитаем % ошибок отдельно для каждого класса (Positive/Negative)"
   ],
   "metadata": {
    "collapsed": false
   }
  },
  {
   "cell_type": "markdown",
   "source": [
    "## True Positive Rate & True Negative Rate"
   ],
   "metadata": {
    "collapsed": false
   }
  },
  {
   "cell_type": "code",
   "execution_count": 67,
   "outputs": [],
   "source": [
    "positives = df[df[\"y_true\"] == 1].copy()\n",
    "negatives = df[df[\"y_true\"] == 0].copy()"
   ],
   "metadata": {
    "collapsed": false,
    "ExecuteTime": {
     "end_time": "2024-02-29T12:43:40.149892Z",
     "start_time": "2024-02-29T12:43:40.137638Z"
    }
   }
  },
  {
   "cell_type": "code",
   "execution_count": 81,
   "outputs": [
    {
     "name": "stdout",
     "output_type": "stream",
     "text": [
      "Pred_1: TPR [Sensitivity]: 70.50%, True Negative Rate [Specificity]: 93.90%\n",
      "Pred_2: TPR [Sensitivity]: 65.59%, True Negative Rate [Specificity]: 98.98%\n"
     ]
    }
   ],
   "source": [
    "tpr_pred1 = (positives[\"y_true\"] == positives[\"y_pred1\"]).mean()\n",
    "tpr_pred2 = (positives[\"y_true\"] == positives[\"y_pred2\"]).mean()\n",
    "\n",
    "tnr_pred1 = (negatives[\"y_true\"] == negatives[\"y_pred1\"]).mean()\n",
    "tnr_pred2 = (negatives[\"y_true\"] == negatives[\"y_pred2\"]).mean()\n",
    "\n",
    "print(f\"Pred_1: TPR [Sensitivity]: {tpr_pred1:.2%}, True Negative Rate [Specificity]: {tnr_pred1:.2%}\\n\"\n",
    "      f\"Pred_2: TPR [Sensitivity]: {tpr_pred2:.2%}, True Negative Rate [Specificity]: {tnr_pred2:.2%}\")\n",
    "\n",
    "# print(f\"True Positive Rate [Sensitivity]. pred_1: {tpr_pred1:.2%}, pred_2: {tpr_pred2:.2%}\\n\"\n",
    "#       f\"True Negative Rate [Specificity]. pred_1: {tnr_pred1:.2%}, pred_2: {tnr_pred2:.2%}\")"
   ],
   "metadata": {
    "collapsed": false,
    "ExecuteTime": {
     "end_time": "2024-02-29T13:00:31.109847Z",
     "start_time": "2024-02-29T13:00:31.086778Z"
    }
   }
  },
  {
   "cell_type": "markdown",
   "source": [
    "И вот в таком разрезе разница между тестами сразу становится заметной. Полученные результаты можно трактовать следующим образом:\n",
    "- __Pred_1__. __TPR__ говорит о том, что в 70% случаев данный тест корректно диагностирует заболевание у болеющего человека. А __TNR__ говорит о том, что в 93% случаев данный тест корректно определяет отсутствие болезни у здороовго человека.\n",
    "- __Pred_2__. __TPR__ говорит о том, что в 65% случаев данный тест корректно диагностирует заболевание у болеющего человека. А __TNR__ говорит о том, что в 98% случаев данный тест корректно определяет отсутствие болезни у здорового человека.\n",
    "\n",
    "__Промежуточный итог__ - первый тест лучше диагностирует болезнь у действительно болеющих. Второй тест лучше диагностирует отсутствие болезни у здоровых."
   ],
   "metadata": {
    "collapsed": false
   }
  },
  {
   "cell_type": "code",
   "execution_count": 92,
   "outputs": [
    {
     "name": "stdout",
     "output_type": "stream",
     "text": [
      "Pred_1[manual|sklearn]: TPR: 0.7050147492625368|0.7050147492625368, TNR: 0.9389623601220752|0.9389623601220752\n",
      "Pred_2[manual|sklearn]: TPR: 0.655850540806293|0.655850540806293, TNR: 0.9898270600203459|0.9898270600203459\n",
      "\n"
     ]
    }
   ],
   "source": [
    "# Проверим расчеты на уже готовых функциях\n",
    "tpr_pred1_sl = recall_score(df[\"y_true\"], df[\"y_pred1\"])\n",
    "tnr_pred1_sl = recall_score(df[\"y_true\"], df[\"y_pred1\"], pos_label=0)\n",
    "tpr_pred2_sl = recall_score(df[\"y_true\"], df[\"y_pred2\"])\n",
    "tnr_pred2_sl = recall_score(df[\"y_true\"], df[\"y_pred2\"], pos_label=0)\n",
    "\n",
    "print(f\"Pred_1[manual|sklearn]: TPR: {tpr_pred1}|{tpr_pred1_sl}, TNR: {tnr_pred1}|{tnr_pred1_sl}\\n\"\n",
    "      f\"Pred_2[manual|sklearn]: TPR: {tpr_pred2}|{tpr_pred2_sl}, TNR: {tnr_pred2}|{tnr_pred2_sl}\\n\")\n"
   ],
   "metadata": {
    "collapsed": false,
    "ExecuteTime": {
     "end_time": "2024-02-29T13:15:51.491007Z",
     "start_time": "2024-02-29T13:15:51.458297Z"
    }
   }
  },
  {
   "cell_type": "markdown",
   "source": [
    "## Confusion Matrix"
   ],
   "metadata": {
    "collapsed": false
   }
  },
  {
   "cell_type": "code",
   "execution_count": 102,
   "outputs": [
    {
     "data": {
      "text/plain": "<sklearn.metrics._plot.confusion_matrix.ConfusionMatrixDisplay at 0x2989de590>"
     },
     "execution_count": 102,
     "metadata": {},
     "output_type": "execute_result"
    },
    {
     "data": {
      "text/plain": "<Figure size 640x480 with 2 Axes>",
      "image/png": "[encoded data removed]"
     },
     "metadata": {},
     "output_type": "display_data"
    }
   ],
   "source": [
    "cm = confusion_matrix(df['y_true'], df['y_pred1'])\n",
    "disp = ConfusionMatrixDisplay(confusion_matrix=cm)\n",
    "disp.plot()"
   ],
   "metadata": {
    "collapsed": false,
    "ExecuteTime": {
     "end_time": "2024-02-29T13:32:50.028773Z",
     "start_time": "2024-02-29T13:32:49.954460Z"
    }
   }
  },
  {
   "cell_type": "code",
   "execution_count": 103,
   "outputs": [
    {
     "data": {
      "text/plain": "<sklearn.metrics._plot.confusion_matrix.ConfusionMatrixDisplay at 0x2988ede90>"
     },
     "execution_count": 103,
     "metadata": {},
     "output_type": "execute_result"
    },
    {
     "data": {
      "text/plain": "<Figure size 640x480 with 2 Axes>",
      "image/png": "[encoded data removed]"
     },
     "metadata": {},
     "output_type": "display_data"
    }
   ],
   "source": [
    "cm = confusion_matrix(df['y_true'], df['y_pred2'])\n",
    "disp = ConfusionMatrixDisplay(confusion_matrix=cm)\n",
    "disp.plot()"
   ],
   "metadata": {
    "collapsed": false,
    "ExecuteTime": {
     "end_time": "2024-02-29T13:52:22.606425Z",
     "start_time": "2024-02-29T13:52:22.542386Z"
    }
   }
  },
  {
   "cell_type": "markdown",
   "source": [
    "# Вводные\n",
    "- __Данные__ - сгенерированный набор данных с возможными результатами двух тестов на беременность.\n",
    "- __Задача__ - проанализировать предоставленные данные и определить есть ли различия в \"проведенных\" тестах."
   ],
   "metadata": {
    "collapsed": false
   }
  },
  {
   "cell_type": "code",
   "execution_count": 104,
   "outputs": [],
   "source": [
    "df = pd.read_csv(\"data/pregnancy.csv\")"
   ],
   "metadata": {
    "collapsed": false,
    "ExecuteTime": {
     "end_time": "2024-02-29T18:02:18.604411Z",
     "start_time": "2024-02-29T18:02:18.578507Z"
    }
   }
  },
  {
   "cell_type": "code",
   "execution_count": 106,
   "outputs": [
    {
     "name": "stdout",
     "output_type": "stream",
     "text": [
      "df.shape: (10000, 3)\n"
     ]
    },
    {
     "data": {
      "text/plain": "      y_true  y_pred1  y_pred2\n1155       1        1        1\n832        1        1        1\n8841       0        0        0\n8846       0        0        0\n6544       0        0        0",
      "text/html": "<div>\n<style scoped>\n    .dataframe tbody tr th:only-of-type {\n        vertical-align: middle;\n    }\n\n    .dataframe tbody tr th {\n        vertical-align: top;\n    }\n\n    .dataframe thead th {\n        text-align: right;\n    }\n</style>\n<table border=\"1\" class=\"dataframe\">\n  <thead>\n    <tr style=\"text-align: right;\">\n      <th></th>\n      <th>y_true</th>\n      <th>y_pred1</th>\n      <th>y_pred2</th>\n    </tr>\n  </thead>\n  <tbody>\n    <tr>\n      <th>1155</th>\n      <td>1</td>\n      <td>1</td>\n      <td>1</td>\n    </tr>\n    <tr>\n      <th>832</th>\n      <td>1</td>\n      <td>1</td>\n      <td>1</td>\n    </tr>\n    <tr>\n      <th>8841</th>\n      <td>0</td>\n      <td>0</td>\n      <td>0</td>\n    </tr>\n    <tr>\n      <th>8846</th>\n      <td>0</td>\n      <td>0</td>\n      <td>0</td>\n    </tr>\n    <tr>\n      <th>6544</th>\n      <td>0</td>\n      <td>0</td>\n      <td>0</td>\n    </tr>\n  </tbody>\n</table>\n</div>"
     },
     "execution_count": 106,
     "metadata": {},
     "output_type": "execute_result"
    }
   ],
   "source": [
    "print(f\"df.shape: {df.shape}\")\n",
    "df.sample(5)"
   ],
   "metadata": {
    "collapsed": false,
    "ExecuteTime": {
     "end_time": "2024-02-29T18:02:33.414348Z",
     "start_time": "2024-02-29T18:02:33.407628Z"
    }
   }
  },
  {
   "cell_type": "code",
   "execution_count": 108,
   "outputs": [
    {
     "name": "stdout",
     "output_type": "stream",
     "text": [
      "Pred_1: TPR: 99.02%, TNR: 90.84%\n",
      "Pred_2: TPR: 95.08%, TNR: 94.91%\n"
     ]
    }
   ],
   "source": [
    "tpr_pred1 = recall_score(df[\"y_true\"], df[\"y_pred1\"])\n",
    "tnr_pred1 = recall_score(df[\"y_true\"], df[\"y_pred1\"], pos_label=0)\n",
    "tpr_pred2 = recall_score(df[\"y_true\"], df[\"y_pred2\"])\n",
    "tnr_pred2 = recall_score(df[\"y_true\"], df[\"y_pred2\"], pos_label=0)\n",
    "\n",
    "print(f\"Pred_1: TPR: {tpr_pred1:.2%}, TNR: {tnr_pred1:.2%}\\n\"\n",
    "      f\"Pred_2: TPR: {tpr_pred2:.2%}, TNR: {tnr_pred2:.2%}\")"
   ],
   "metadata": {
    "collapsed": false,
    "ExecuteTime": {
     "end_time": "2024-02-29T18:04:09.885146Z",
     "start_time": "2024-02-29T18:04:09.868093Z"
    }
   }
  },
  {
   "cell_type": "code",
   "execution_count": 111,
   "outputs": [],
   "source": [
    "cm = confusion_matrix(df['y_true'], df['y_pred1'])\n",
    "disp = ConfusionMatrixDisplay(confusion_matrix=cm)\n",
    "# disp.plot()"
   ],
   "metadata": {
    "collapsed": false,
    "ExecuteTime": {
     "end_time": "2024-02-29T18:05:40.469576Z",
     "start_time": "2024-02-29T18:05:40.459686Z"
    }
   }
  },
  {
   "cell_type": "code",
   "execution_count": 112,
   "outputs": [],
   "source": [
    "cm = confusion_matrix(df['y_true'], df['y_pred2'])\n",
    "disp = ConfusionMatrixDisplay(confusion_matrix=cm)\n",
    "# disp.plot()"
   ],
   "metadata": {
    "collapsed": false,
    "ExecuteTime": {
     "end_time": "2024-02-29T18:05:42.801572Z",
     "start_time": "2024-02-29T18:05:42.790166Z"
    }
   }
  },
  {
   "cell_type": "markdown",
   "source": [
    "Полученные результаты можно трактовать следующим образом:\n",
    "- __Pred_1__. __TPR__ говорит о том, что в 99% случаев данный тест корректно диагностирует наличие беременности у беременных. А __TNR__ говорит о том, что в 90% случаев данный тест корректно определяет отсутствие беременности у не беременных.\n",
    "- __Pred_2__. __TPR__ говорит о том, что в 95% случаев данный тест корректно диагностирует наличие беременности у беременных. А __TNR__ говорит о том, что в 94% случаев данный тест корректно определяет отсутствие беременности у не беременных."
   ],
   "metadata": {
    "collapsed": false
   }
  },
  {
   "cell_type": "code",
   "execution_count": null,
   "outputs": [],
   "source": [],
   "metadata": {
    "collapsed": false
   }
  }
 ],
 "metadata": {
  "kernelspec": {
   "display_name": "Python 3",
   "language": "python",
   "name": "python3"
  },
  "language_info": {
   "codemirror_mode": {
    "name": "ipython",
    "version": 2
   },
   "file_extension": ".py",
   "mimetype": "text/x-python",
   "name": "python",
   "nbconvert_exporter": "python",
   "pygments_lexer": "ipython2",
   "version": "2.7.6"
  }
 },
 "nbformat": 4,
 "nbformat_minor": 0
}

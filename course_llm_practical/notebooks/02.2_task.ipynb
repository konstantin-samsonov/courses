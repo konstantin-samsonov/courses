{
 "cells": [
  {
   "cell_type": "code",
   "execution_count": 21,
   "metadata": {
    "collapsed": true,
    "ExecuteTime": {
     "end_time": "2024-01-30T06:27:46.534334Z",
     "start_time": "2024-01-30T06:27:46.496987Z"
    }
   },
   "outputs": [],
   "source": [
    "import os\n",
    "\n",
    "import pandas as pd\n",
    "from dotenv import load_dotenv\n",
    "from utils.course import ChatOpenAI\n",
    "from tqdm import tqdm"
   ]
  },
  {
   "cell_type": "code",
   "execution_count": 22,
   "outputs": [],
   "source": [
    "tqdm.pandas()"
   ],
   "metadata": {
    "collapsed": false,
    "ExecuteTime": {
     "end_time": "2024-01-30T06:28:31.997950Z",
     "start_time": "2024-01-30T06:28:31.969021Z"
    }
   }
  },
  {
   "cell_type": "code",
   "execution_count": 7,
   "outputs": [],
   "source": [
    "load_dotenv()\n",
    "api_key_course = os.getenv(\"API_COURSE\")"
   ],
   "metadata": {
    "collapsed": false,
    "ExecuteTime": {
     "end_time": "2024-01-30T06:17:32.564675Z",
     "start_time": "2024-01-30T06:17:32.519018Z"
    }
   }
  },
  {
   "cell_type": "code",
   "execution_count": 8,
   "outputs": [],
   "source": [
    "# инициализируем языковую модель\n",
    "llm = ChatOpenAI(temperature=0.0, course_api_key=api_key_course)"
   ],
   "metadata": {
    "collapsed": false,
    "ExecuteTime": {
     "end_time": "2024-01-30T06:17:32.615913Z",
     "start_time": "2024-01-30T06:17:32.590042Z"
    }
   }
  },
  {
   "cell_type": "markdown",
   "source": [
    "__Задача:__\n",
    "- Для каждого сообщения необходимо определить, является ли оно спамом (1) или не спамом (0) и записать эту информацию в столбец is_spam.\n",
    "Что на выходе? csv файл, содержащий два столбца - text_id и is_spam.Что использовать? В этой задаче не подразумевается использование сторонних ML библиотек, кроме API ChatGPT и библиотеки pandas для обработки данных.\n",
    "- Замечание: Точность вашего решения (доля верных ответов) должна быть не ниже 75%."
   ],
   "metadata": {
    "collapsed": false
   }
  },
  {
   "cell_type": "code",
   "execution_count": 11,
   "outputs": [],
   "source": [
    "df = pd.read_csv(\"../data/2_2_8_100_crypto_messages.csv\")"
   ],
   "metadata": {
    "collapsed": false,
    "ExecuteTime": {
     "end_time": "2024-01-30T06:19:04.117122Z",
     "start_time": "2024-01-30T06:19:04.089807Z"
    }
   }
  },
  {
   "cell_type": "code",
   "execution_count": 12,
   "outputs": [
    {
     "data": {
      "text/plain": "    text_id                                               text\n0       143              Удаленная работа. От нас: Зп от 2500$\n1       179  Что вы думаете о концепции децентрализованных ...\n2       147  Удалённый заработок. Время 1-2часа в день. Мож...\n3       157  Меня всегда интересовал вопрос безопасности хр...\n4       168  Я слышал, что некоторые банки начали экспериме...\n..      ...                                                ...\n95      209  Работа в сфере криптовалютной журналистики или...\n96      200  Какие криптовалюты вы видите в будущем как осн...\n97      229  Исследование и анализ рынка криптовалют также ...\n98      101  Набираю людей в команду по межбиржевой торговл...\n99      161  Я слышал о проекте, который предоставляет кред...\n\n[100 rows x 2 columns]",
      "text/html": "<div>\n<style scoped>\n    .dataframe tbody tr th:only-of-type {\n        vertical-align: middle;\n    }\n\n    .dataframe tbody tr th {\n        vertical-align: top;\n    }\n\n    .dataframe thead th {\n        text-align: right;\n    }\n</style>\n<table border=\"1\" class=\"dataframe\">\n  <thead>\n    <tr style=\"text-align: right;\">\n      <th></th>\n      <th>text_id</th>\n      <th>text</th>\n    </tr>\n  </thead>\n  <tbody>\n    <tr>\n      <th>0</th>\n      <td>143</td>\n      <td>Удаленная работа. От нас: Зп от 2500$</td>\n    </tr>\n    <tr>\n      <th>1</th>\n      <td>179</td>\n      <td>Что вы думаете о концепции децентрализованных ...</td>\n    </tr>\n    <tr>\n      <th>2</th>\n      <td>147</td>\n      <td>Удалённый заработок. Время 1-2часа в день. Мож...</td>\n    </tr>\n    <tr>\n      <th>3</th>\n      <td>157</td>\n      <td>Меня всегда интересовал вопрос безопасности хр...</td>\n    </tr>\n    <tr>\n      <th>4</th>\n      <td>168</td>\n      <td>Я слышал, что некоторые банки начали экспериме...</td>\n    </tr>\n    <tr>\n      <th>...</th>\n      <td>...</td>\n      <td>...</td>\n    </tr>\n    <tr>\n      <th>95</th>\n      <td>209</td>\n      <td>Работа в сфере криптовалютной журналистики или...</td>\n    </tr>\n    <tr>\n      <th>96</th>\n      <td>200</td>\n      <td>Какие криптовалюты вы видите в будущем как осн...</td>\n    </tr>\n    <tr>\n      <th>97</th>\n      <td>229</td>\n      <td>Исследование и анализ рынка криптовалют также ...</td>\n    </tr>\n    <tr>\n      <th>98</th>\n      <td>101</td>\n      <td>Набираю людей в команду по межбиржевой торговл...</td>\n    </tr>\n    <tr>\n      <th>99</th>\n      <td>161</td>\n      <td>Я слышал о проекте, который предоставляет кред...</td>\n    </tr>\n  </tbody>\n</table>\n<p>100 rows × 2 columns</p>\n</div>"
     },
     "execution_count": 12,
     "metadata": {},
     "output_type": "execute_result"
    }
   ],
   "source": [
    "df"
   ],
   "metadata": {
    "collapsed": false,
    "ExecuteTime": {
     "end_time": "2024-01-30T06:19:04.428288Z",
     "start_time": "2024-01-30T06:19:04.418055Z"
    }
   }
  },
  {
   "cell_type": "markdown",
   "source": [],
   "metadata": {
    "collapsed": false
   }
  },
  {
   "cell_type": "code",
   "execution_count": 13,
   "outputs": [],
   "source": [
    "from langchain import PromptTemplate"
   ],
   "metadata": {
    "collapsed": false,
    "ExecuteTime": {
     "end_time": "2024-01-30T06:21:32.150501Z",
     "start_time": "2024-01-30T06:21:32.095303Z"
    }
   }
  },
  {
   "cell_type": "code",
   "execution_count": 14,
   "outputs": [],
   "source": [
    "## Точность вашего решения: 0.72. Нужно как минимум 0.75\n",
    "# template = \"\"\"Внимательно прочитай вопрос и опираясь на контекст ниже определи тип вопроса.\n",
    "# Если сообщение несет рекламный характер - это спам, пометь его цифрой 1.\n",
    "# Если сообщение полезное и не рекламирует никакие товары или услуги, то это не спам. Пометь его цифрой 0.\n",
    "#\n",
    "# Context: Удалённый заработок. Время 1-2часа в день. Можно без опыта всему обучим. заработок в долларах. Возраст 20+\n",
    "#\n",
    "# Question: {query}\n",
    "#\n",
    "# Answer: \"\"\"\n",
    "#\n",
    "# prompt_template = PromptTemplate(\n",
    "#     input_variables=[\"query\"],\n",
    "#     template=template\n",
    "# )"
   ],
   "metadata": {
    "collapsed": false,
    "ExecuteTime": {
     "end_time": "2024-01-30T06:25:38.798277Z",
     "start_time": "2024-01-30T06:25:38.796265Z"
    }
   }
  },
  {
   "cell_type": "code",
   "execution_count": 36,
   "outputs": [],
   "source": [
    "# Отлично! Вы побили порог в 0.75: ваша точность 0.95.\n",
    "template = \"\"\"\n",
    "Внимательно прочитай вопрос и определи является ли данное сообщение спамом, рекламой или мусором.\n",
    "Если да, то поставсь такому сообщению цифру 1. Если же сообщение несет полезную информацию (вопрос или предложение), то поставь такому сообщению цифру 0.\n",
    "\n",
    "Question: {query}\n",
    "\n",
    "Answer: \"\"\"\n",
    "\n",
    "prompt_template = PromptTemplate(\n",
    "    input_variables=[\"query\"],\n",
    "    template=template\n",
    ")"
   ],
   "metadata": {
    "collapsed": false,
    "ExecuteTime": {
     "end_time": "2024-01-30T06:38:52.128918Z",
     "start_time": "2024-01-30T06:38:52.096531Z"
    }
   }
  },
  {
   "cell_type": "code",
   "execution_count": 37,
   "outputs": [
    {
     "name": "stderr",
     "output_type": "stream",
     "text": [
      "100%|██████████| 100/100 [00:45<00:00,  2.21it/s]\n"
     ]
    }
   ],
   "source": [
    "# df[\"is_spam\"] = df[\"text\"].progress_apply(lambda x: llm.predict(prompt_template.format(query=x)))"
   ],
   "metadata": {
    "collapsed": false,
    "ExecuteTime": {
     "end_time": "2024-01-30T06:39:38.364837Z",
     "start_time": "2024-01-30T06:38:53.064081Z"
    }
   }
  },
  {
   "cell_type": "code",
   "execution_count": 39,
   "outputs": [],
   "source": [
    "# df[[\"text_id\", \"is_spam\"]].to_csv(\"../data/2_2_8_100_solution.csv\", index=False)"
   ],
   "metadata": {
    "collapsed": false,
    "ExecuteTime": {
     "end_time": "2024-01-30T06:39:41.167029Z",
     "start_time": "2024-01-30T06:39:41.165161Z"
    }
   }
  },
  {
   "cell_type": "markdown",
   "source": [
    "## 2_2_9"
   ],
   "metadata": {
    "collapsed": false
   }
  },
  {
   "cell_type": "code",
   "execution_count": 46,
   "outputs": [],
   "source": [
    "from langchain.output_parsers import ResponseSchema\n",
    "from langchain.output_parsers import StructuredOutputParser\n",
    "from langchain.prompts import ChatPromptTemplate"
   ],
   "metadata": {
    "collapsed": false,
    "ExecuteTime": {
     "end_time": "2024-01-30T06:59:54.779403Z",
     "start_time": "2024-01-30T06:59:54.724561Z"
    }
   }
  },
  {
   "cell_type": "code",
   "execution_count": 40,
   "outputs": [],
   "source": [
    "df = pd.read_csv(\"../data/2_2_9_vacancies_messages_50.csv\")"
   ],
   "metadata": {
    "collapsed": false,
    "ExecuteTime": {
     "end_time": "2024-01-30T06:49:31.179892Z",
     "start_time": "2024-01-30T06:49:31.164970Z"
    }
   }
  },
  {
   "cell_type": "code",
   "execution_count": 41,
   "outputs": [
    {
     "data": {
      "text/plain": "    text_id                                               text\n0         9  #вакансия #vacancy #Python #удаленка #flask #r...\n1        31  #ВАКАНСИЯ  #Системный_аналитик #РФ\\n \\nАКЦИОНЕ...\n2        28  #вакансия #vacancy #job #senior #data #DB #dat...\n3        49  #вакансия #fulltime #remote \\n\\n🔎 Ищем Руковод...\n4        18  #vacancy #job #analyst #travel #sirenatravel #...\n5        48  #вакансия #fulltime #remote #lookfor #devops\\n...\n6        41  #вакансия #senior #middle+ #lead #удаленка #оф...\n7         6  #job #python #django #javascript #react #fulls...\n8        17  #вакансия #vacancy #middle #senior #remote #уд...\n9         4  Вакансия: Разработчик (Vue.js / Golang) для на...\n10       50  #vacancy #relocate #fulltime #LeadUIUXDesigner...\n11       32  #вакансия #удаленка #vacancy #startup #QA #mid...\n12       38  ✅Senior Full Stack PHP-разработчик\\nот 250 000...\n13        5  #job #вакансия #работа #fulltime  #TS #Typescr...\n14       33  🏳️ Вакансия: React Developer 🏳️\\n\\nТолько для ...\n15       15  #вакансия #PHP #Symfony #developer #fulltime #...\n16       29  📝 Retention Manager (iGaming)\\nФормат: удаленн...\n17       19  #job #вакансия #работа #fulltime #remote #pyth...\n18       24  #Вакансия #Удаленно\\nВсем привет!🖐\\nМы - «КСА»...\n19       40  #вакансия #удаленно #системный_аналитик\\n\\nКом...\n20       12  #вакансия #qa #auto #fulltime #remote #vacancy...\n21       39  Привет! \\nМы компания Траст Строй, занимаемся ...\n22       45  #вакансия #продажи \\n\\nПозиция: «Менеджер по р...\n23        1  #вакансия #node #vue #fullstack #удаленно \\n\\n...\n24       26  #вакансия #удалено #C #NET \\n\\n\\n🔥C# Engineer🔥...\n25       13  #вакансия #vacancy #systemanalyst #analyst #sa...\n26       30  #вакансия #удалёнка #IT\\nЗдравствуйте! Компани...\n27       20  #job #analyst #vacancy #Russia #fulltime #вака...\n28       22  #vacancy #Java_developer\\n\\nПозиция: Java deve...\n29       47  #вакансия  #vacancy #1C-bitrix  #php #office #...\n30       43  #junior #vacancy #вакансия #recruiter\\n\\nJunio...\n31        3  #job #vacancy #C #developer #backend #middle #...\n32       23  #job #вакансия #работа #fulltime #remote #php ...\n33       44  #вакансия #python #middle #fulltime #remote #у...\n34       35  #vacancy #вакансия #go #developer #wildberries...\n35       27  #SDR #remote #tashkent\\nPtolemay (https://www....\n36       21  #job #vacancy #sirenatravel #developer #backen...\n37       37  ✅Системный администратор (Anykey)\\nВ компанию\\...\n38       16  #вакансия #стажировка #удаленка #аналитик #ful...\n39        2  #copywriter #вакансия  #fulltime #удаленка  #r...\n40       42  #вакансия #работа #ПолнаяЗанятость #удаленнаяр...\n41        7  #аналитик #AWG  #Москва #CA #Senior #системный...\n42       34  #vacancy #вакансия #ios #remote \\n\\n⭐️ Release...\n43       25  #job #vacancy #вакансия #офис #релокация #Open...\n44       46  #vacancy #вакансия #go #developer #wildberries...\n45       36  #вакансия\\n\\nMiddle+/Senior Backend Engineer в...\n46       10  #вакансия\\n\\nВсем привет! \\n\\nИщем программист...\n47       11  #вакансия #vacancy #DWH #remote #удалённо    \\...\n48       14  #job #вакансия #работа #fulltime  #JavaScript ...\n49        8  #вакансия #HR #junior #remote #crypto #blockch...",
      "text/html": "<div>\n<style scoped>\n    .dataframe tbody tr th:only-of-type {\n        vertical-align: middle;\n    }\n\n    .dataframe tbody tr th {\n        vertical-align: top;\n    }\n\n    .dataframe thead th {\n        text-align: right;\n    }\n</style>\n<table border=\"1\" class=\"dataframe\">\n  <thead>\n    <tr style=\"text-align: right;\">\n      <th></th>\n      <th>text_id</th>\n      <th>text</th>\n    </tr>\n  </thead>\n  <tbody>\n    <tr>\n      <th>0</th>\n      <td>9</td>\n      <td>#вакансия #vacancy #Python #удаленка #flask #r...</td>\n    </tr>\n    <tr>\n      <th>1</th>\n      <td>31</td>\n      <td>#ВАКАНСИЯ  #Системный_аналитик #РФ\\n \\nАКЦИОНЕ...</td>\n    </tr>\n    <tr>\n      <th>2</th>\n      <td>28</td>\n      <td>#вакансия #vacancy #job #senior #data #DB #dat...</td>\n    </tr>\n    <tr>\n      <th>3</th>\n      <td>49</td>\n      <td>#вакансия #fulltime #remote \\n\\n🔎 Ищем Руковод...</td>\n    </tr>\n    <tr>\n      <th>4</th>\n      <td>18</td>\n      <td>#vacancy #job #analyst #travel #sirenatravel #...</td>\n    </tr>\n    <tr>\n      <th>5</th>\n      <td>48</td>\n      <td>#вакансия #fulltime #remote #lookfor #devops\\n...</td>\n    </tr>\n    <tr>\n      <th>6</th>\n      <td>41</td>\n      <td>#вакансия #senior #middle+ #lead #удаленка #оф...</td>\n    </tr>\n    <tr>\n      <th>7</th>\n      <td>6</td>\n      <td>#job #python #django #javascript #react #fulls...</td>\n    </tr>\n    <tr>\n      <th>8</th>\n      <td>17</td>\n      <td>#вакансия #vacancy #middle #senior #remote #уд...</td>\n    </tr>\n    <tr>\n      <th>9</th>\n      <td>4</td>\n      <td>Вакансия: Разработчик (Vue.js / Golang) для на...</td>\n    </tr>\n    <tr>\n      <th>10</th>\n      <td>50</td>\n      <td>#vacancy #relocate #fulltime #LeadUIUXDesigner...</td>\n    </tr>\n    <tr>\n      <th>11</th>\n      <td>32</td>\n      <td>#вакансия #удаленка #vacancy #startup #QA #mid...</td>\n    </tr>\n    <tr>\n      <th>12</th>\n      <td>38</td>\n      <td>✅Senior Full Stack PHP-разработчик\\nот 250 000...</td>\n    </tr>\n    <tr>\n      <th>13</th>\n      <td>5</td>\n      <td>#job #вакансия #работа #fulltime  #TS #Typescr...</td>\n    </tr>\n    <tr>\n      <th>14</th>\n      <td>33</td>\n      <td>🏳️ Вакансия: React Developer 🏳️\\n\\nТолько для ...</td>\n    </tr>\n    <tr>\n      <th>15</th>\n      <td>15</td>\n      <td>#вакансия #PHP #Symfony #developer #fulltime #...</td>\n    </tr>\n    <tr>\n      <th>16</th>\n      <td>29</td>\n      <td>📝 Retention Manager (iGaming)\\nФормат: удаленн...</td>\n    </tr>\n    <tr>\n      <th>17</th>\n      <td>19</td>\n      <td>#job #вакансия #работа #fulltime #remote #pyth...</td>\n    </tr>\n    <tr>\n      <th>18</th>\n      <td>24</td>\n      <td>#Вакансия #Удаленно\\nВсем привет!🖐\\nМы - «КСА»...</td>\n    </tr>\n    <tr>\n      <th>19</th>\n      <td>40</td>\n      <td>#вакансия #удаленно #системный_аналитик\\n\\nКом...</td>\n    </tr>\n    <tr>\n      <th>20</th>\n      <td>12</td>\n      <td>#вакансия #qa #auto #fulltime #remote #vacancy...</td>\n    </tr>\n    <tr>\n      <th>21</th>\n      <td>39</td>\n      <td>Привет! \\nМы компания Траст Строй, занимаемся ...</td>\n    </tr>\n    <tr>\n      <th>22</th>\n      <td>45</td>\n      <td>#вакансия #продажи \\n\\nПозиция: «Менеджер по р...</td>\n    </tr>\n    <tr>\n      <th>23</th>\n      <td>1</td>\n      <td>#вакансия #node #vue #fullstack #удаленно \\n\\n...</td>\n    </tr>\n    <tr>\n      <th>24</th>\n      <td>26</td>\n      <td>#вакансия #удалено #C #NET \\n\\n\\n🔥C# Engineer🔥...</td>\n    </tr>\n    <tr>\n      <th>25</th>\n      <td>13</td>\n      <td>#вакансия #vacancy #systemanalyst #analyst #sa...</td>\n    </tr>\n    <tr>\n      <th>26</th>\n      <td>30</td>\n      <td>#вакансия #удалёнка #IT\\nЗдравствуйте! Компани...</td>\n    </tr>\n    <tr>\n      <th>27</th>\n      <td>20</td>\n      <td>#job #analyst #vacancy #Russia #fulltime #вака...</td>\n    </tr>\n    <tr>\n      <th>28</th>\n      <td>22</td>\n      <td>#vacancy #Java_developer\\n\\nПозиция: Java deve...</td>\n    </tr>\n    <tr>\n      <th>29</th>\n      <td>47</td>\n      <td>#вакансия  #vacancy #1C-bitrix  #php #office #...</td>\n    </tr>\n    <tr>\n      <th>30</th>\n      <td>43</td>\n      <td>#junior #vacancy #вакансия #recruiter\\n\\nJunio...</td>\n    </tr>\n    <tr>\n      <th>31</th>\n      <td>3</td>\n      <td>#job #vacancy #C #developer #backend #middle #...</td>\n    </tr>\n    <tr>\n      <th>32</th>\n      <td>23</td>\n      <td>#job #вакансия #работа #fulltime #remote #php ...</td>\n    </tr>\n    <tr>\n      <th>33</th>\n      <td>44</td>\n      <td>#вакансия #python #middle #fulltime #remote #у...</td>\n    </tr>\n    <tr>\n      <th>34</th>\n      <td>35</td>\n      <td>#vacancy #вакансия #go #developer #wildberries...</td>\n    </tr>\n    <tr>\n      <th>35</th>\n      <td>27</td>\n      <td>#SDR #remote #tashkent\\nPtolemay (https://www....</td>\n    </tr>\n    <tr>\n      <th>36</th>\n      <td>21</td>\n      <td>#job #vacancy #sirenatravel #developer #backen...</td>\n    </tr>\n    <tr>\n      <th>37</th>\n      <td>37</td>\n      <td>✅Системный администратор (Anykey)\\nВ компанию\\...</td>\n    </tr>\n    <tr>\n      <th>38</th>\n      <td>16</td>\n      <td>#вакансия #стажировка #удаленка #аналитик #ful...</td>\n    </tr>\n    <tr>\n      <th>39</th>\n      <td>2</td>\n      <td>#copywriter #вакансия  #fulltime #удаленка  #r...</td>\n    </tr>\n    <tr>\n      <th>40</th>\n      <td>42</td>\n      <td>#вакансия #работа #ПолнаяЗанятость #удаленнаяр...</td>\n    </tr>\n    <tr>\n      <th>41</th>\n      <td>7</td>\n      <td>#аналитик #AWG  #Москва #CA #Senior #системный...</td>\n    </tr>\n    <tr>\n      <th>42</th>\n      <td>34</td>\n      <td>#vacancy #вакансия #ios #remote \\n\\n⭐️ Release...</td>\n    </tr>\n    <tr>\n      <th>43</th>\n      <td>25</td>\n      <td>#job #vacancy #вакансия #офис #релокация #Open...</td>\n    </tr>\n    <tr>\n      <th>44</th>\n      <td>46</td>\n      <td>#vacancy #вакансия #go #developer #wildberries...</td>\n    </tr>\n    <tr>\n      <th>45</th>\n      <td>36</td>\n      <td>#вакансия\\n\\nMiddle+/Senior Backend Engineer в...</td>\n    </tr>\n    <tr>\n      <th>46</th>\n      <td>10</td>\n      <td>#вакансия\\n\\nВсем привет! \\n\\nИщем программист...</td>\n    </tr>\n    <tr>\n      <th>47</th>\n      <td>11</td>\n      <td>#вакансия #vacancy #DWH #remote #удалённо    \\...</td>\n    </tr>\n    <tr>\n      <th>48</th>\n      <td>14</td>\n      <td>#job #вакансия #работа #fulltime  #JavaScript ...</td>\n    </tr>\n    <tr>\n      <th>49</th>\n      <td>8</td>\n      <td>#вакансия #HR #junior #remote #crypto #blockch...</td>\n    </tr>\n  </tbody>\n</table>\n</div>"
     },
     "execution_count": 41,
     "metadata": {},
     "output_type": "execute_result"
    }
   ],
   "source": [
    "df"
   ],
   "metadata": {
    "collapsed": false,
    "ExecuteTime": {
     "end_time": "2024-01-30T06:49:32.140807Z",
     "start_time": "2024-01-30T06:49:32.122239Z"
    }
   }
  },
  {
   "cell_type": "code",
   "execution_count": 61,
   "outputs": [],
   "source": [
    "template = \"\"\"Из следующего текста извлеки информацию:\n",
    "\n",
    "job_title: ...\n",
    "\n",
    "company: ...\n",
    "\n",
    "salary: ...\n",
    "\n",
    "tg: ...\n",
    "\n",
    "grade: ...\n",
    "\n",
    "text: {text}\n",
    "\n",
    "{format_instructions}\n",
    "\"\"\"\n",
    "\n",
    "prompt = ChatPromptTemplate.from_template(template=template)"
   ],
   "metadata": {
    "collapsed": false,
    "ExecuteTime": {
     "end_time": "2024-01-30T07:03:15.266401Z",
     "start_time": "2024-01-30T07:03:15.253790Z"
    }
   }
  },
  {
   "cell_type": "code",
   "execution_count": 62,
   "outputs": [],
   "source": [
    "# # Результат: 128 из 250\n",
    "# job_title_schema = ResponseSchema(\n",
    "#     name=\"job_title\",\n",
    "#     description=\"Как указано в описании вакансии, на том же языке. Проверяем полное совпадение, без учета регистра. Если написан грейд, его нужно убрать (например, Senior Python developer -> Python developer, C++ разработчик (middle, senior) ->C++ разработчик).\"\n",
    "# )\n",
    "#\n",
    "#\n",
    "# company_schema = ResponseSchema(\n",
    "#     name=\"company\",\n",
    "#     description=\"Как указано в описании вакансии, на том же языке. Проверяем полное совпадение, без учета регистра. Указываем только название (не пишем финтех, крупная компания, мобильная игра и т.д.).\"\n",
    "# )\n",
    "#\n",
    "#\n",
    "# salary_schema = ResponseSchema(\n",
    "#     name=\"salary\",\n",
    "#     description=\"Числа пишем без пробелов, не пишем тыс. или к.(умножаем в таком случае на 1000), не пишем фикс, плюшки, премии, % от продаж, техника и т.д. Не пишем net, gross, на руки и т.д. После числа (диапазона чисел) указываем валюту руб. или $ после пробела. Если указан диапазон, то пишем его через тире, около тире пробелы не ставим (например, 100к-150к рублей -> 100000-150000 руб.). Если указана только нижняя граница (от 2000$ или 100000+руб), то пишем это значение, используя слово от (например, 100к+руб -> от 100000 руб.). Если указана только верхняя граница, то пишем это значение, используя слово до (например, до 100к руб -> до 100000 руб.). Если зарплата указана за час, то в конце добавляем в час.\"\n",
    "# )\n",
    "#\n",
    "#\n",
    "# tg_schema = ResponseSchema(\n",
    "#     name=\"tg\",\n",
    "#     description=\"Указываем контакт в телеграмм, используя @. Проверяем полное совпадение, с учетом регистра. Если указано несколько контаков, то указываем их через запятую (не забывая про пробел после запятой).\"\n",
    "# )\n",
    "#\n",
    "#\n",
    "# grade_schema = ResponseSchema(\n",
    "#     name=\"grade\",\n",
    "#     description=\"Возможные значения intern, junior, junior+, middle, middle+, senior, lead. Если указано несколько значений, то пишем их через запятую в порядке возрастания.\"\n",
    "# )\n",
    "#\n",
    "# response_schemas = [\n",
    "#     job_title_schema,\n",
    "#     company_schema,\n",
    "#     salary_schema,\n",
    "#     tg_schema,\n",
    "#     grade_schema\n",
    "# ]"
   ],
   "metadata": {
    "collapsed": false,
    "ExecuteTime": {
     "end_time": "2024-01-30T07:05:12.623440Z",
     "start_time": "2024-01-30T07:05:12.606188Z"
    }
   }
  },
  {
   "cell_type": "code",
   "execution_count": 76,
   "outputs": [],
   "source": [
    "job_title_schema = ResponseSchema(\n",
    "    name=\"job_title\",\n",
    "    description=\"\"\"На какую позицию/вакансию ищут кандидата?\n",
    "Не указывай уровень, просто напиши название позиции,\n",
    "например, для названия 'Senior Python developer' - это просто 'Python developer', а 'C++ разработчик (middle, senior)' 'C++ разработчик'\n",
    "Из названия удали grade, то есть уровень. Название позиции не должно содержать слов junior, middle, senior, lead.\n",
    "Если эта информация напрямую не указана в вакансии, ответь 'не знаю'.\n",
    "\"\"\",\n",
    ")\n",
    "\n",
    "company_schema = ResponseSchema(\n",
    "    name=\"company\",\n",
    "    description=\"\"\"Напиши название компании, для которой ищут кандидата.\n",
    "Название напиши на том же языке, что и в тексте, точно так же, как указано в вакансии.\n",
    "В качестве ответа требуется только название, без дополнительных пояснений (например, что это крупная компания, финтех или прочее)\n",
    "Если эта информация напрямую не указана в вакансии, ответь 'не знаю'.\"\"\",\n",
    ")\n",
    "\n",
    "salary_schema = ResponseSchema(\n",
    "    name=\"salary\",\n",
    "    description=\"\"\"Укажи предполагаемую в вакансии зарплату в соответствии со следующими правилами:\n",
    "1) Не пиши 'тыс.' или 'к.', если такие конструкции встречаются в тексте, умножай на 1000 указанное до них число.\n",
    "2) Не пиши 'net', 'gross', 'на руки' и подобные им.\n",
    "3) После числа (или диапазона чисел, если указан диапазон возможных зарплат), укажи валюту, в которой будут платить. Если это рубли, то напиши после числа (чисел) 'руб.', а если доллары - '$'  ДО ДОЛЛАРОВ НЕ ЗАБУДЬ ПОСТАВИТЬ ПРОБЕЛ.\n",
    "4) Если указан диапазон, то напиши его через тире, около тире пробелы не ставь (например, '100к-150к рублей' -> '100000-150000 руб.').\n",
    "5) Если указана только нижняя граница (от 2000$ или 100000+руб), то напиши это значение, используя слово 'от' (например, '100к+руб' -> 'от 100000 руб.').\n",
    "6) Если указана только верхняя граница, то напиши это значение, используя слово 'до' (например, 'до 100к руб' -> 'до 100000 руб.').\n",
    "7) Если зарплата указана за час, то в конце добавь 'в час'.\n",
    "Если эта информация напрямую не указана в вакансии, ответь 'не знаю'.\n",
    "\"\"\",\n",
    ")\n",
    "\n",
    "tg_schema = ResponseSchema(\n",
    "    name=\"tg\",\n",
    "    description=\"\"\"Укажи контакт для связи. Контакт перепиши в точности как в тексте, с учетом регистра, при необходимости добавив '@' перед ним (такой символ для каждого контакта должен быть один)\n",
    "Если указано несколько контаков, то укажи их через запятую (не забывая про пробел после запятой).\n",
    "Если эта информация напрямую не указана в вакансии, ответь 'не знаю'.\"\"\",\n",
    ")\n",
    "\n",
    "grade_schema = ResponseSchema(\n",
    "    name=\"grade\",\n",
    "    description=\"\"\"Напиши уровень, на который ищут кандидата. Возможные значения: 'intern', 'junior', 'junior+', 'middle', 'middle+', 'senior', 'lead'.\n",
    "Если указано несколько значений, то напиши их через запятую в порядке возрастания.\n",
    "Если эта информация напрямую не указана в вакансии, ответь 'не знаю'.\n",
    "\"\"\",\n",
    ")\n",
    "\n",
    "response_schemas = [\n",
    "    job_title_schema,\n",
    "    company_schema,\n",
    "    salary_schema,\n",
    "    tg_schema,\n",
    "    grade_schema,\n",
    "]"
   ],
   "metadata": {
    "collapsed": false,
    "ExecuteTime": {
     "end_time": "2024-01-30T07:18:33.660576Z",
     "start_time": "2024-01-30T07:18:33.646613Z"
    }
   }
  },
  {
   "cell_type": "code",
   "execution_count": 77,
   "outputs": [],
   "source": [
    "output_parser = StructuredOutputParser.from_response_schemas(response_schemas) # Создаём парсер и подаём в него список со схемами\n",
    "format_instructions = output_parser.get_format_instructions() # Получаем инструкции по форматированию ответа"
   ],
   "metadata": {
    "collapsed": false,
    "ExecuteTime": {
     "end_time": "2024-01-30T07:18:34.807448Z",
     "start_time": "2024-01-30T07:18:34.804937Z"
    }
   }
  },
  {
   "cell_type": "code",
   "execution_count": 78,
   "outputs": [
    {
     "name": "stderr",
     "output_type": "stream",
     "text": [
      "100%|██████████| 50/50 [01:39<00:00,  1.98s/it]\n"
     ]
    }
   ],
   "source": [
    "dict_list = [] # Список из словарей, где будем хранить полученную информацию\n",
    "for text_input in tqdm(df['text']):\n",
    "    try:\n",
    "        messages = prompt.format_messages(\n",
    "            text=text_input,\n",
    "            format_instructions=format_instructions\n",
    "        )\n",
    "        response = llm(messages) # Ответ модели\n",
    "        dict_list.append(output_parser.parse(response.content)) # Переводим содержимое ответа модели в словарь и добавляем в список\n",
    "    except:\n",
    "        pass\n",
    "    # break # Для отладки. Уберите, когда убедитесь, что на одном примере работает"
   ],
   "metadata": {
    "collapsed": false,
    "ExecuteTime": {
     "end_time": "2024-01-30T07:20:14.277552Z",
     "start_time": "2024-01-30T07:18:35.134567Z"
    }
   }
  },
  {
   "cell_type": "code",
   "execution_count": null,
   "outputs": [],
   "source": [
    "# dict_list"
   ],
   "metadata": {
    "collapsed": false
   }
  },
  {
   "cell_type": "code",
   "execution_count": 74,
   "outputs": [],
   "source": [
    "result_df = pd.DataFrame(dict_list) # Создаем датафрейм из полученной информации\n",
    "ans_df = pd.concat([df, result_df], axis=1) # Объединяем всё в один датафрейм\n",
    "ans_df.to_csv(\"../data/2_2_9_solution.csv\", index=False)"
   ],
   "metadata": {
    "collapsed": false,
    "ExecuteTime": {
     "end_time": "2024-01-30T07:11:26.991670Z",
     "start_time": "2024-01-30T07:11:26.968600Z"
    }
   }
  },
  {
   "cell_type": "code",
   "execution_count": 75,
   "outputs": [
    {
     "data": {
      "text/plain": "    text_id                                               text  \\\n0         9  #вакансия #vacancy #Python #удаленка #flask #r...   \n1        31  #ВАКАНСИЯ  #Системный_аналитик #РФ\\n \\nАКЦИОНЕ...   \n2        28  #вакансия #vacancy #job #senior #data #DB #dat...   \n3        49  #вакансия #fulltime #remote \\n\\n🔎 Ищем Руковод...   \n4        18  #vacancy #job #analyst #travel #sirenatravel #...   \n5        48  #вакансия #fulltime #remote #lookfor #devops\\n...   \n6        41  #вакансия #senior #middle+ #lead #удаленка #оф...   \n7         6  #job #python #django #javascript #react #fulls...   \n8        17  #вакансия #vacancy #middle #senior #remote #уд...   \n9         4  Вакансия: Разработчик (Vue.js / Golang) для на...   \n10       50  #vacancy #relocate #fulltime #LeadUIUXDesigner...   \n11       32  #вакансия #удаленка #vacancy #startup #QA #mid...   \n12       38  ✅Senior Full Stack PHP-разработчик\\nот 250 000...   \n13        5  #job #вакансия #работа #fulltime  #TS #Typescr...   \n14       33  🏳️ Вакансия: React Developer 🏳️\\n\\nТолько для ...   \n15       15  #вакансия #PHP #Symfony #developer #fulltime #...   \n16       29  📝 Retention Manager (iGaming)\\nФормат: удаленн...   \n17       19  #job #вакансия #работа #fulltime #remote #pyth...   \n18       24  #Вакансия #Удаленно\\nВсем привет!🖐\\nМы - «КСА»...   \n19       40  #вакансия #удаленно #системный_аналитик\\n\\nКом...   \n20       12  #вакансия #qa #auto #fulltime #remote #vacancy...   \n21       39  Привет! \\nМы компания Траст Строй, занимаемся ...   \n22       45  #вакансия #продажи \\n\\nПозиция: «Менеджер по р...   \n23        1  #вакансия #node #vue #fullstack #удаленно \\n\\n...   \n24       26  #вакансия #удалено #C #NET \\n\\n\\n🔥C# Engineer🔥...   \n25       13  #вакансия #vacancy #systemanalyst #analyst #sa...   \n26       30  #вакансия #удалёнка #IT\\nЗдравствуйте! Компани...   \n27       20  #job #analyst #vacancy #Russia #fulltime #вака...   \n28       22  #vacancy #Java_developer\\n\\nПозиция: Java deve...   \n29       47  #вакансия  #vacancy #1C-bitrix  #php #office #...   \n30       43  #junior #vacancy #вакансия #recruiter\\n\\nJunio...   \n31        3  #job #vacancy #C #developer #backend #middle #...   \n32       23  #job #вакансия #работа #fulltime #remote #php ...   \n33       44  #вакансия #python #middle #fulltime #remote #у...   \n34       35  #vacancy #вакансия #go #developer #wildberries...   \n35       27  #SDR #remote #tashkent\\nPtolemay (https://www....   \n36       21  #job #vacancy #sirenatravel #developer #backen...   \n37       37  ✅Системный администратор (Anykey)\\nВ компанию\\...   \n38       16  #вакансия #стажировка #удаленка #аналитик #ful...   \n39        2  #copywriter #вакансия  #fulltime #удаленка  #r...   \n40       42  #вакансия #работа #ПолнаяЗанятость #удаленнаяр...   \n41        7  #аналитик #AWG  #Москва #CA #Senior #системный...   \n42       34  #vacancy #вакансия #ios #remote \\n\\n⭐️ Release...   \n43       25  #job #vacancy #вакансия #офис #релокация #Open...   \n44       46  #vacancy #вакансия #go #developer #wildberries...   \n45       36  #вакансия\\n\\nMiddle+/Senior Backend Engineer в...   \n46       10  #вакансия\\n\\nВсем привет! \\n\\nИщем программист...   \n47       11  #вакансия #vacancy #DWH #remote #удалённо    \\...   \n48       14  #job #вакансия #работа #fulltime  #JavaScript ...   \n49        8  #вакансия #HR #junior #remote #crypto #blockch...   \n\n                                            job_title  \\\n0                                    Python developer   \n1                                СИСТЕМНОГО АНАЛИТИКА   \n2                              Database Administrator   \n3    Руководитель отдела системного администрирования   \n4                                             Analyst   \n5                                      DevOps инженер   \n6                                  Системный аналитик   \n7               Python/Django full-stack разработчика   \n8                                      Go разработчик   \n9                       Разработчик (Vue.js / Golang)   \n10                                Lead UI/UX Designer   \n11                    QA automation Engineer (Python)   \n12                         Full Stack PHP-разработчик   \n13                               Frontend разработчик   \n14                                    React Developer   \n15                                      PHP-developer   \n16                                  Retention Manager   \n17                                   Python developer   \n18                                 Программист 1С:ЗУП   \n19                                 Системный аналитик   \n20                                       Tech Lead QA   \n21                         Backend Python разработчик   \n22              Менеджер по развитию партнерской сети   \n23                             Full-stack разработчик   \n24                                        C# Engineer   \n25                                     System Analyst   \n26                           Разработчик PowerBuilder   \n27                                 Системный аналитик   \n28                              Java developer middle   \n29                                    PHP программист   \n30                                Junior IT Recruiter   \n31                                    C/C++ Developer   \n32                                      PHP developer   \n33                                   Python Developer   \n34                                       Go Developer   \n35                                       C# Developer   \n36                            Системный администратор   \n37                                           Аналитик   \n38                          Копирайтер в сфере крипты   \n39                                                 QA   \n40                                 Системный аналитик   \n41    Release manager / Основное мобильное приложение   \n42                                             DevOps   \n43                                       Go Developer   \n44                                   Backend Engineer   \n45  программист на верстку многостраничного сайта ...   \n46                                      DWH developer   \n47                       Frontend разработчик Angular   \n48                                  Junior HR Manager   \n49                                                NaN   \n\n                                              company  \\\n0                                           Collectly   \n1   АКЦИОНЕРНОЕ ОБЩЕСТВО «ГЛАВНЫЙ НАУЧНЫЙ ИННОВАЦИ...   \n2                                       Match Systems   \n3                                      финтех продукт   \n4                                       Sirena Travel   \n5                                            Mad Devs   \n6                                           Платформа   \n7                                              ivelum   \n8                                      КА Алешин Д.А.   \n9                                                       \n10                                     мобильная игра   \n11                                               CFPS   \n12                                          GetCourse   \n13                                          Travelata   \n14                                       крупный банк   \n15                                            KT.Team   \n16                                         не указано   \n17                                           Skillbox   \n18                                                КСА   \n19                                              Amber   \n20                                          RecruitIT   \n21                                        Траст Строй   \n22                                              AMBER   \n23                                        КА \"АйтиКА\"   \n24                                               GGEM   \n25                                              Brief   \n26                                      Outlines Tech   \n27                                            INFOPRO   \n28                             разработка ПО на заказ   \n29                                              100UP   \n30                                           AIPeople   \n31                                                NTS   \n32                                           Водоходъ   \n33                                 ALEX GROUP COMPANY   \n34                                        Wildberries   \n35                                      Sirena Travel   \n36                                        MANUFAQTURY   \n37                                          Автомакон   \n38                                 ALEX GROUP COMPANY   \n39                                          Dreamsoft   \n40                                                AWG   \n41                                        WILDBERRIES   \n42                                          Mayflower   \n43                                        Wildberries   \n44                                               Qlan   \n45                                                      \n46                                         König Labs   \n47                                       Nobilis.Team   \n48                                 ALEX GROUP COMPANY   \n49                                                NaN   \n\n                                               salary                      tg  \\\n0                                          6000-9000$               @ann_gfio   \n1                                320000-370000 рублей            @NatalyaMaki   \n2                                            от 3000$             @lex_kertis   \n3                                            от 3000$          @ResearcherRIT   \n4                                  120000-180000 руб.               @ann_gfio   \n5                                            до 5000$      @recruiter_maddevs   \n6                                  180000-300000 руб.  @Alexandrabogdanova_96   \n7                                       $4000 - $6000             @lebedevaoi   \n8                                      до 500000 руб.        @AleshinDmitry80   \n9                                                                               \n10                                                                  @alesyaly   \n11                                 180000-250000 руб.        @Ana_Itrecruiter   \n12                                     от 250000 руб.               @Ritttka1   \n13                                 280000-320000 руб.               @ann_gfio   \n14                                  180000-230000 руб          нет информации   \n15                                     до 240000 руб.              @innahotim   \n16                                         не указано               @alesyaly   \n17                                 300000-400000 руб.               @ann_gfio   \n18                                 220000-250000 руб.               @saras770   \n19                                      до 300000 руб             @Sholpan771   \n20                                           от 3000$          @ResearcherRIT   \n21  уровень ЗП оговаривается с каждым кандидатом и...          @Lyubov_Vladim   \n22                                     от 130000 руб.             @Sholpan771   \n23                                 300000-380000 руб.               @artur_vv   \n24                                       17-20$ в час              @AlexMayel   \n25                                 240000-300000 руб.              @smirnsvet   \n26                                     до 290000 руб.                 @mnoita   \n27                                 100000-200000 руб.               @ann_gfio   \n28                                 200000-250000 руб.             @Sholpan771   \n29                            от 150000 до 200000 руб        @romanenko_daria   \n30                                                            @nastyaishiring   \n31                                 140000-300000 руб.               @ann_gfio   \n32                                 180000-200000 руб.               @ann_gfio   \n33                                от 3000 до 3600 USD            @danilavaren   \n34                           от 150000 до 600000 руб.              @hr_legoit   \n35                                 300000-400000 руб.               @ann_gfio   \n36                                      от 80000 руб.            Отклики в лс   \n37                                         не указана             @nikolaazzp   \n38                                  80000-140000 руб.            @danilavaren   \n39                                     ставка открыта               @DreamITB   \n40                                     до 350000 руб.                 @ElivHR   \n41                      от 150000 руб. до 350000 руб.              @invader_s   \n42                                         5000-6000$         @Alexandr_Mayel   \n43                           от 150000 до 600000 руб.           @Fl_recruiter   \n44                           110000-140000 руб./месяц               @laptev13   \n45                                                                 @vlrstrtsv   \n46                                 250000-300000 руб.     @HrKristinaorekhova   \n47                                 180000-250000 руб.            @Anna_HRinIT   \n48                                   70000-90000 руб.            @danilavaren   \n49                                                NaN                     NaN   \n\n              grade  \n0            senior  \n1                    \n2            Senior  \n3                    \n4                    \n5            Senior  \n6           middle+  \n7    middle, senior  \n8    middle, senior  \n9                    \n10                   \n11   middle, senior  \n12           Senior  \n13           senior  \n14          Middle+  \n15           middle  \n16       не указано  \n17           senior  \n18                   \n19    Middle/Senior  \n20          middle+  \n21           Senior  \n22                   \n23           middle  \n24           middle  \n25  middle+, senior  \n26                   \n27           middle  \n28          middle+  \n29           middle  \n30                   \n31   Middle, Senior  \n32   Middle, Senior  \n33           middle  \n34           middle  \n35           middle  \n36                   \n37           intern  \n38                   \n39                   \n40           senior  \n41                   \n42           middle  \n43           middle  \n44  Middle+, Senior  \n45                   \n46                   \n47           middle  \n48           junior  \n49              NaN  ",
      "text/html": "<div>\n<style scoped>\n    .dataframe tbody tr th:only-of-type {\n        vertical-align: middle;\n    }\n\n    .dataframe tbody tr th {\n        vertical-align: top;\n    }\n\n    .dataframe thead th {\n        text-align: right;\n    }\n</style>\n<table border=\"1\" class=\"dataframe\">\n  <thead>\n    <tr style=\"text-align: right;\">\n      <th></th>\n      <th>text_id</th>\n      <th>text</th>\n      <th>job_title</th>\n      <th>company</th>\n      <th>salary</th>\n      <th>tg</th>\n      <th>grade</th>\n    </tr>\n  </thead>\n  <tbody>\n    <tr>\n      <th>0</th>\n      <td>9</td>\n      <td>#вакансия #vacancy #Python #удаленка #flask #r...</td>\n      <td>Python developer</td>\n      <td>Collectly</td>\n      <td>6000-9000$</td>\n      <td>@ann_gfio</td>\n      <td>senior</td>\n    </tr>\n    <tr>\n      <th>1</th>\n      <td>31</td>\n      <td>#ВАКАНСИЯ  #Системный_аналитик #РФ\\n \\nАКЦИОНЕ...</td>\n      <td>СИСТЕМНОГО АНАЛИТИКА</td>\n      <td>АКЦИОНЕРНОЕ ОБЩЕСТВО «ГЛАВНЫЙ НАУЧНЫЙ ИННОВАЦИ...</td>\n      <td>320000-370000 рублей</td>\n      <td>@NatalyaMaki</td>\n      <td></td>\n    </tr>\n    <tr>\n      <th>2</th>\n      <td>28</td>\n      <td>#вакансия #vacancy #job #senior #data #DB #dat...</td>\n      <td>Database Administrator</td>\n      <td>Match Systems</td>\n      <td>от 3000$</td>\n      <td>@lex_kertis</td>\n      <td>Senior</td>\n    </tr>\n    <tr>\n      <th>3</th>\n      <td>49</td>\n      <td>#вакансия #fulltime #remote \\n\\n🔎 Ищем Руковод...</td>\n      <td>Руководитель отдела системного администрирования</td>\n      <td>финтех продукт</td>\n      <td>от 3000$</td>\n      <td>@ResearcherRIT</td>\n      <td></td>\n    </tr>\n    <tr>\n      <th>4</th>\n      <td>18</td>\n      <td>#vacancy #job #analyst #travel #sirenatravel #...</td>\n      <td>Analyst</td>\n      <td>Sirena Travel</td>\n      <td>120000-180000 руб.</td>\n      <td>@ann_gfio</td>\n      <td></td>\n    </tr>\n    <tr>\n      <th>5</th>\n      <td>48</td>\n      <td>#вакансия #fulltime #remote #lookfor #devops\\n...</td>\n      <td>DevOps инженер</td>\n      <td>Mad Devs</td>\n      <td>до 5000$</td>\n      <td>@recruiter_maddevs</td>\n      <td>Senior</td>\n    </tr>\n    <tr>\n      <th>6</th>\n      <td>41</td>\n      <td>#вакансия #senior #middle+ #lead #удаленка #оф...</td>\n      <td>Системный аналитик</td>\n      <td>Платформа</td>\n      <td>180000-300000 руб.</td>\n      <td>@Alexandrabogdanova_96</td>\n      <td>middle+</td>\n    </tr>\n    <tr>\n      <th>7</th>\n      <td>6</td>\n      <td>#job #python #django #javascript #react #fulls...</td>\n      <td>Python/Django full-stack разработчика</td>\n      <td>ivelum</td>\n      <td>$4000 - $6000</td>\n      <td>@lebedevaoi</td>\n      <td>middle, senior</td>\n    </tr>\n    <tr>\n      <th>8</th>\n      <td>17</td>\n      <td>#вакансия #vacancy #middle #senior #remote #уд...</td>\n      <td>Go разработчик</td>\n      <td>КА Алешин Д.А.</td>\n      <td>до 500000 руб.</td>\n      <td>@AleshinDmitry80</td>\n      <td>middle, senior</td>\n    </tr>\n    <tr>\n      <th>9</th>\n      <td>4</td>\n      <td>Вакансия: Разработчик (Vue.js / Golang) для на...</td>\n      <td>Разработчик (Vue.js / Golang)</td>\n      <td></td>\n      <td></td>\n      <td></td>\n      <td></td>\n    </tr>\n    <tr>\n      <th>10</th>\n      <td>50</td>\n      <td>#vacancy #relocate #fulltime #LeadUIUXDesigner...</td>\n      <td>Lead UI/UX Designer</td>\n      <td>мобильная игра</td>\n      <td></td>\n      <td>@alesyaly</td>\n      <td></td>\n    </tr>\n    <tr>\n      <th>11</th>\n      <td>32</td>\n      <td>#вакансия #удаленка #vacancy #startup #QA #mid...</td>\n      <td>QA automation Engineer (Python)</td>\n      <td>CFPS</td>\n      <td>180000-250000 руб.</td>\n      <td>@Ana_Itrecruiter</td>\n      <td>middle, senior</td>\n    </tr>\n    <tr>\n      <th>12</th>\n      <td>38</td>\n      <td>✅Senior Full Stack PHP-разработчик\\nот 250 000...</td>\n      <td>Full Stack PHP-разработчик</td>\n      <td>GetCourse</td>\n      <td>от 250000 руб.</td>\n      <td>@Ritttka1</td>\n      <td>Senior</td>\n    </tr>\n    <tr>\n      <th>13</th>\n      <td>5</td>\n      <td>#job #вакансия #работа #fulltime  #TS #Typescr...</td>\n      <td>Frontend разработчик</td>\n      <td>Travelata</td>\n      <td>280000-320000 руб.</td>\n      <td>@ann_gfio</td>\n      <td>senior</td>\n    </tr>\n    <tr>\n      <th>14</th>\n      <td>33</td>\n      <td>🏳️ Вакансия: React Developer 🏳️\\n\\nТолько для ...</td>\n      <td>React Developer</td>\n      <td>крупный банк</td>\n      <td>180000-230000 руб</td>\n      <td>нет информации</td>\n      <td>Middle+</td>\n    </tr>\n    <tr>\n      <th>15</th>\n      <td>15</td>\n      <td>#вакансия #PHP #Symfony #developer #fulltime #...</td>\n      <td>PHP-developer</td>\n      <td>KT.Team</td>\n      <td>до 240000 руб.</td>\n      <td>@innahotim</td>\n      <td>middle</td>\n    </tr>\n    <tr>\n      <th>16</th>\n      <td>29</td>\n      <td>📝 Retention Manager (iGaming)\\nФормат: удаленн...</td>\n      <td>Retention Manager</td>\n      <td>не указано</td>\n      <td>не указано</td>\n      <td>@alesyaly</td>\n      <td>не указано</td>\n    </tr>\n    <tr>\n      <th>17</th>\n      <td>19</td>\n      <td>#job #вакансия #работа #fulltime #remote #pyth...</td>\n      <td>Python developer</td>\n      <td>Skillbox</td>\n      <td>300000-400000 руб.</td>\n      <td>@ann_gfio</td>\n      <td>senior</td>\n    </tr>\n    <tr>\n      <th>18</th>\n      <td>24</td>\n      <td>#Вакансия #Удаленно\\nВсем привет!🖐\\nМы - «КСА»...</td>\n      <td>Программист 1С:ЗУП</td>\n      <td>КСА</td>\n      <td>220000-250000 руб.</td>\n      <td>@saras770</td>\n      <td></td>\n    </tr>\n    <tr>\n      <th>19</th>\n      <td>40</td>\n      <td>#вакансия #удаленно #системный_аналитик\\n\\nКом...</td>\n      <td>Системный аналитик</td>\n      <td>Amber</td>\n      <td>до 300000 руб</td>\n      <td>@Sholpan771</td>\n      <td>Middle/Senior</td>\n    </tr>\n    <tr>\n      <th>20</th>\n      <td>12</td>\n      <td>#вакансия #qa #auto #fulltime #remote #vacancy...</td>\n      <td>Tech Lead QA</td>\n      <td>RecruitIT</td>\n      <td>от 3000$</td>\n      <td>@ResearcherRIT</td>\n      <td>middle+</td>\n    </tr>\n    <tr>\n      <th>21</th>\n      <td>39</td>\n      <td>Привет! \\nМы компания Траст Строй, занимаемся ...</td>\n      <td>Backend Python разработчик</td>\n      <td>Траст Строй</td>\n      <td>уровень ЗП оговаривается с каждым кандидатом и...</td>\n      <td>@Lyubov_Vladim</td>\n      <td>Senior</td>\n    </tr>\n    <tr>\n      <th>22</th>\n      <td>45</td>\n      <td>#вакансия #продажи \\n\\nПозиция: «Менеджер по р...</td>\n      <td>Менеджер по развитию партнерской сети</td>\n      <td>AMBER</td>\n      <td>от 130000 руб.</td>\n      <td>@Sholpan771</td>\n      <td></td>\n    </tr>\n    <tr>\n      <th>23</th>\n      <td>1</td>\n      <td>#вакансия #node #vue #fullstack #удаленно \\n\\n...</td>\n      <td>Full-stack разработчик</td>\n      <td>КА \"АйтиКА\"</td>\n      <td>300000-380000 руб.</td>\n      <td>@artur_vv</td>\n      <td>middle</td>\n    </tr>\n    <tr>\n      <th>24</th>\n      <td>26</td>\n      <td>#вакансия #удалено #C #NET \\n\\n\\n🔥C# Engineer🔥...</td>\n      <td>C# Engineer</td>\n      <td>GGEM</td>\n      <td>17-20$ в час</td>\n      <td>@AlexMayel</td>\n      <td>middle</td>\n    </tr>\n    <tr>\n      <th>25</th>\n      <td>13</td>\n      <td>#вакансия #vacancy #systemanalyst #analyst #sa...</td>\n      <td>System Analyst</td>\n      <td>Brief</td>\n      <td>240000-300000 руб.</td>\n      <td>@smirnsvet</td>\n      <td>middle+, senior</td>\n    </tr>\n    <tr>\n      <th>26</th>\n      <td>30</td>\n      <td>#вакансия #удалёнка #IT\\nЗдравствуйте! Компани...</td>\n      <td>Разработчик PowerBuilder</td>\n      <td>Outlines Tech</td>\n      <td>до 290000 руб.</td>\n      <td>@mnoita</td>\n      <td></td>\n    </tr>\n    <tr>\n      <th>27</th>\n      <td>20</td>\n      <td>#job #analyst #vacancy #Russia #fulltime #вака...</td>\n      <td>Системный аналитик</td>\n      <td>INFOPRO</td>\n      <td>100000-200000 руб.</td>\n      <td>@ann_gfio</td>\n      <td>middle</td>\n    </tr>\n    <tr>\n      <th>28</th>\n      <td>22</td>\n      <td>#vacancy #Java_developer\\n\\nПозиция: Java deve...</td>\n      <td>Java developer middle</td>\n      <td>разработка ПО на заказ</td>\n      <td>200000-250000 руб.</td>\n      <td>@Sholpan771</td>\n      <td>middle+</td>\n    </tr>\n    <tr>\n      <th>29</th>\n      <td>47</td>\n      <td>#вакансия  #vacancy #1C-bitrix  #php #office #...</td>\n      <td>PHP программист</td>\n      <td>100UP</td>\n      <td>от 150000 до 200000 руб</td>\n      <td>@romanenko_daria</td>\n      <td>middle</td>\n    </tr>\n    <tr>\n      <th>30</th>\n      <td>43</td>\n      <td>#junior #vacancy #вакансия #recruiter\\n\\nJunio...</td>\n      <td>Junior IT Recruiter</td>\n      <td>AIPeople</td>\n      <td></td>\n      <td>@nastyaishiring</td>\n      <td></td>\n    </tr>\n    <tr>\n      <th>31</th>\n      <td>3</td>\n      <td>#job #vacancy #C #developer #backend #middle #...</td>\n      <td>C/C++ Developer</td>\n      <td>NTS</td>\n      <td>140000-300000 руб.</td>\n      <td>@ann_gfio</td>\n      <td>Middle, Senior</td>\n    </tr>\n    <tr>\n      <th>32</th>\n      <td>23</td>\n      <td>#job #вакансия #работа #fulltime #remote #php ...</td>\n      <td>PHP developer</td>\n      <td>Водоходъ</td>\n      <td>180000-200000 руб.</td>\n      <td>@ann_gfio</td>\n      <td>Middle, Senior</td>\n    </tr>\n    <tr>\n      <th>33</th>\n      <td>44</td>\n      <td>#вакансия #python #middle #fulltime #remote #у...</td>\n      <td>Python Developer</td>\n      <td>ALEX GROUP COMPANY</td>\n      <td>от 3000 до 3600 USD</td>\n      <td>@danilavaren</td>\n      <td>middle</td>\n    </tr>\n    <tr>\n      <th>34</th>\n      <td>35</td>\n      <td>#vacancy #вакансия #go #developer #wildberries...</td>\n      <td>Go Developer</td>\n      <td>Wildberries</td>\n      <td>от 150000 до 600000 руб.</td>\n      <td>@hr_legoit</td>\n      <td>middle</td>\n    </tr>\n    <tr>\n      <th>35</th>\n      <td>27</td>\n      <td>#SDR #remote #tashkent\\nPtolemay (https://www....</td>\n      <td>C# Developer</td>\n      <td>Sirena Travel</td>\n      <td>300000-400000 руб.</td>\n      <td>@ann_gfio</td>\n      <td>middle</td>\n    </tr>\n    <tr>\n      <th>36</th>\n      <td>21</td>\n      <td>#job #vacancy #sirenatravel #developer #backen...</td>\n      <td>Системный администратор</td>\n      <td>MANUFAQTURY</td>\n      <td>от 80000 руб.</td>\n      <td>Отклики в лс</td>\n      <td></td>\n    </tr>\n    <tr>\n      <th>37</th>\n      <td>37</td>\n      <td>✅Системный администратор (Anykey)\\nВ компанию\\...</td>\n      <td>Аналитик</td>\n      <td>Автомакон</td>\n      <td>не указана</td>\n      <td>@nikolaazzp</td>\n      <td>intern</td>\n    </tr>\n    <tr>\n      <th>38</th>\n      <td>16</td>\n      <td>#вакансия #стажировка #удаленка #аналитик #ful...</td>\n      <td>Копирайтер в сфере крипты</td>\n      <td>ALEX GROUP COMPANY</td>\n      <td>80000-140000 руб.</td>\n      <td>@danilavaren</td>\n      <td></td>\n    </tr>\n    <tr>\n      <th>39</th>\n      <td>2</td>\n      <td>#copywriter #вакансия  #fulltime #удаленка  #r...</td>\n      <td>QA</td>\n      <td>Dreamsoft</td>\n      <td>ставка открыта</td>\n      <td>@DreamITB</td>\n      <td></td>\n    </tr>\n    <tr>\n      <th>40</th>\n      <td>42</td>\n      <td>#вакансия #работа #ПолнаяЗанятость #удаленнаяр...</td>\n      <td>Системный аналитик</td>\n      <td>AWG</td>\n      <td>до 350000 руб.</td>\n      <td>@ElivHR</td>\n      <td>senior</td>\n    </tr>\n    <tr>\n      <th>41</th>\n      <td>7</td>\n      <td>#аналитик #AWG  #Москва #CA #Senior #системный...</td>\n      <td>Release manager / Основное мобильное приложение</td>\n      <td>WILDBERRIES</td>\n      <td>от 150000 руб. до 350000 руб.</td>\n      <td>@invader_s</td>\n      <td></td>\n    </tr>\n    <tr>\n      <th>42</th>\n      <td>34</td>\n      <td>#vacancy #вакансия #ios #remote \\n\\n⭐️ Release...</td>\n      <td>DevOps</td>\n      <td>Mayflower</td>\n      <td>5000-6000$</td>\n      <td>@Alexandr_Mayel</td>\n      <td>middle</td>\n    </tr>\n    <tr>\n      <th>43</th>\n      <td>25</td>\n      <td>#job #vacancy #вакансия #офис #релокация #Open...</td>\n      <td>Go Developer</td>\n      <td>Wildberries</td>\n      <td>от 150000 до 600000 руб.</td>\n      <td>@Fl_recruiter</td>\n      <td>middle</td>\n    </tr>\n    <tr>\n      <th>44</th>\n      <td>46</td>\n      <td>#vacancy #вакансия #go #developer #wildberries...</td>\n      <td>Backend Engineer</td>\n      <td>Qlan</td>\n      <td>110000-140000 руб./месяц</td>\n      <td>@laptev13</td>\n      <td>Middle+, Senior</td>\n    </tr>\n    <tr>\n      <th>45</th>\n      <td>36</td>\n      <td>#вакансия\\n\\nMiddle+/Senior Backend Engineer в...</td>\n      <td>программист на верстку многостраничного сайта ...</td>\n      <td></td>\n      <td></td>\n      <td>@vlrstrtsv</td>\n      <td></td>\n    </tr>\n    <tr>\n      <th>46</th>\n      <td>10</td>\n      <td>#вакансия\\n\\nВсем привет! \\n\\nИщем программист...</td>\n      <td>DWH developer</td>\n      <td>König Labs</td>\n      <td>250000-300000 руб.</td>\n      <td>@HrKristinaorekhova</td>\n      <td></td>\n    </tr>\n    <tr>\n      <th>47</th>\n      <td>11</td>\n      <td>#вакансия #vacancy #DWH #remote #удалённо    \\...</td>\n      <td>Frontend разработчик Angular</td>\n      <td>Nobilis.Team</td>\n      <td>180000-250000 руб.</td>\n      <td>@Anna_HRinIT</td>\n      <td>middle</td>\n    </tr>\n    <tr>\n      <th>48</th>\n      <td>14</td>\n      <td>#job #вакансия #работа #fulltime  #JavaScript ...</td>\n      <td>Junior HR Manager</td>\n      <td>ALEX GROUP COMPANY</td>\n      <td>70000-90000 руб.</td>\n      <td>@danilavaren</td>\n      <td>junior</td>\n    </tr>\n    <tr>\n      <th>49</th>\n      <td>8</td>\n      <td>#вакансия #HR #junior #remote #crypto #blockch...</td>\n      <td>NaN</td>\n      <td>NaN</td>\n      <td>NaN</td>\n      <td>NaN</td>\n      <td>NaN</td>\n    </tr>\n  </tbody>\n</table>\n</div>"
     },
     "execution_count": 75,
     "metadata": {},
     "output_type": "execute_result"
    }
   ],
   "source": [
    "ans_df"
   ],
   "metadata": {
    "collapsed": false,
    "ExecuteTime": {
     "end_time": "2024-01-30T07:11:27.608078Z",
     "start_time": "2024-01-30T07:11:27.594656Z"
    }
   }
  },
  {
   "cell_type": "code",
   "execution_count": null,
   "outputs": [],
   "source": [],
   "metadata": {
    "collapsed": false
   }
  }
 ],
 "metadata": {
  "kernelspec": {
   "display_name": "Python 3",
   "language": "python",
   "name": "python3"
  },
  "language_info": {
   "codemirror_mode": {
    "name": "ipython",
    "version": 2
   },
   "file_extension": ".py",
   "mimetype": "text/x-python",
   "name": "python",
   "nbconvert_exporter": "python",
   "pygments_lexer": "ipython2",
   "version": "2.7.6"
  }
 },
 "nbformat": 4,
 "nbformat_minor": 0
}

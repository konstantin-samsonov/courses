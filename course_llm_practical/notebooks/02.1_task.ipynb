{
 "cells": [
  {
   "cell_type": "code",
   "execution_count": 6,
   "metadata": {
    "collapsed": true,
    "ExecuteTime": {
     "end_time": "2024-01-29T07:06:21.620509Z",
     "start_time": "2024-01-29T07:06:21.589387Z"
    }
   },
   "outputs": [],
   "source": [
    "import os\n",
    "from dotenv import load_dotenv\n",
    "from utils.course import ChatOpenAI\n",
    "import pandas as pd\n",
    "from tqdm import tqdm"
   ]
  },
  {
   "cell_type": "code",
   "execution_count": 9,
   "outputs": [],
   "source": [
    "import ssl\n",
    "ssl._create_default_https_context = ssl._create_unverified_context"
   ],
   "metadata": {
    "collapsed": false,
    "ExecuteTime": {
     "end_time": "2024-01-29T07:07:15.729427Z",
     "start_time": "2024-01-29T07:07:15.720770Z"
    }
   }
  },
  {
   "cell_type": "code",
   "execution_count": 17,
   "outputs": [],
   "source": [
    "load_dotenv()\n",
    "api_key_course = os.getenv(\"API_COURSE\")"
   ],
   "metadata": {
    "collapsed": false,
    "ExecuteTime": {
     "end_time": "2024-01-29T07:09:37.492933Z",
     "start_time": "2024-01-29T07:09:37.462536Z"
    }
   }
  },
  {
   "cell_type": "markdown",
   "source": [
    "__Задание__: Вам дана выборка реальных текстовых заявок на жилье, которая состоит из 100 строк. В каждой заявке есть информация про число человек. Если взглянуть на эти тексты, то уже понятно, что автоматичеки вытащить число человек из заявки будет не просто. Тем не менее, это вполне реально. Попробуйте написать такой промпт с инструкцией, чтобы ваша точность была выше 80%. В этой задаче не подразумевается использование сторонних ML библиотек, кроме API ChatGPT и pandas. Хватает всего нескольких строк, чтобы решить эту задачу очень качественно."
   ],
   "metadata": {
    "collapsed": false
   }
  },
  {
   "cell_type": "code",
   "execution_count": 91,
   "outputs": [
    {
     "data": {
      "text/plain": "   amount    text_id                                               text\n0       2   14205200  Сниму жилье. 500-600 рублей сутки. Эконом клас...\n1       6  319097075  ищем жилье в центре недалеко от моря с 23.07-0...\n2       4   98881311  Ищем жилье на период с 18-28июля..на две семьи...\n3       4   44587027  2 семьи по 3 человека (2 взрослых и ребенок) с...\n4       3  352802829  Сниму недорогое жилье в лазаревском на 6 чел 3...\n5       2   52157605  Ищем жилье на двоих с 7.08-14.08 . Ближе к цен...\n6       6  408430986  Сниму жильё в Аше ( на улице Репина)\\nС 16/29 ...\n7       3  176294447  Снимем жилье с 30.06-7.07 Два взрослых и 2дете...\n8       2  150296790  Снимем жильё с 30 июня по 7 июля 3 взрослых и ...\n9       4  120627580  Сниму не дорогое жилье 1 взрослый и 2 ребенка ...",
      "text/html": "<div>\n<style scoped>\n    .dataframe tbody tr th:only-of-type {\n        vertical-align: middle;\n    }\n\n    .dataframe tbody tr th {\n        vertical-align: top;\n    }\n\n    .dataframe thead th {\n        text-align: right;\n    }\n</style>\n<table border=\"1\" class=\"dataframe\">\n  <thead>\n    <tr style=\"text-align: right;\">\n      <th></th>\n      <th>amount</th>\n      <th>text_id</th>\n      <th>text</th>\n    </tr>\n  </thead>\n  <tbody>\n    <tr>\n      <th>0</th>\n      <td>2</td>\n      <td>14205200</td>\n      <td>Сниму жилье. 500-600 рублей сутки. Эконом клас...</td>\n    </tr>\n    <tr>\n      <th>1</th>\n      <td>6</td>\n      <td>319097075</td>\n      <td>ищем жилье в центре недалеко от моря с 23.07-0...</td>\n    </tr>\n    <tr>\n      <th>2</th>\n      <td>4</td>\n      <td>98881311</td>\n      <td>Ищем жилье на период с 18-28июля..на две семьи...</td>\n    </tr>\n    <tr>\n      <th>3</th>\n      <td>4</td>\n      <td>44587027</td>\n      <td>2 семьи по 3 человека (2 взрослых и ребенок) с...</td>\n    </tr>\n    <tr>\n      <th>4</th>\n      <td>3</td>\n      <td>352802829</td>\n      <td>Сниму недорогое жилье в лазаревском на 6 чел 3...</td>\n    </tr>\n    <tr>\n      <th>5</th>\n      <td>2</td>\n      <td>52157605</td>\n      <td>Ищем жилье на двоих с 7.08-14.08 . Ближе к цен...</td>\n    </tr>\n    <tr>\n      <th>6</th>\n      <td>6</td>\n      <td>408430986</td>\n      <td>Сниму жильё в Аше ( на улице Репина)\\nС 16/29 ...</td>\n    </tr>\n    <tr>\n      <th>7</th>\n      <td>3</td>\n      <td>176294447</td>\n      <td>Снимем жилье с 30.06-7.07 Два взрослых и 2дете...</td>\n    </tr>\n    <tr>\n      <th>8</th>\n      <td>2</td>\n      <td>150296790</td>\n      <td>Снимем жильё с 30 июня по 7 июля 3 взрослых и ...</td>\n    </tr>\n    <tr>\n      <th>9</th>\n      <td>4</td>\n      <td>120627580</td>\n      <td>Сниму не дорогое жилье 1 взрослый и 2 ребенка ...</td>\n    </tr>\n  </tbody>\n</table>\n</div>"
     },
     "execution_count": 91,
     "metadata": {},
     "output_type": "execute_result"
    }
   ],
   "source": [
    "# Загружаем данные\n",
    "df = pd.read_csv('https://stepik.org/media/attachments/lesson/1084297/submission100lines.csv')\n",
    "df.head(10)"
   ],
   "metadata": {
    "collapsed": false,
    "ExecuteTime": {
     "end_time": "2024-01-29T07:45:11.809514Z",
     "start_time": "2024-01-29T07:45:11.384795Z"
    }
   }
  },
  {
   "cell_type": "code",
   "execution_count": 24,
   "outputs": [],
   "source": [
    "context = '\\n\\n##\\n\\n'.join(df[\"text\"])"
   ],
   "metadata": {
    "collapsed": false,
    "ExecuteTime": {
     "end_time": "2024-01-29T07:17:02.836035Z",
     "start_time": "2024-01-29T07:17:02.806564Z"
    }
   }
  },
  {
   "cell_type": "code",
   "execution_count": 34,
   "outputs": [],
   "source": [
    "# Инициализируем языковую модель\n",
    "llm = ChatOpenAI(temperature=0.0, course_api_key=api_key_course)"
   ],
   "metadata": {
    "collapsed": false,
    "ExecuteTime": {
     "end_time": "2024-01-29T07:19:22.636839Z",
     "start_time": "2024-01-29T07:19:22.620342Z"
    }
   }
  },
  {
   "cell_type": "code",
   "execution_count": 35,
   "outputs": [],
   "source": [
    "# # Напишите шаблон промпт, указав инструкцию, вопрос и выходной индикатор\n",
    "# prompt_template = \"\"\"Ответь на вопрос, опираясь на контекст ниже.\n",
    "#\n",
    "# Context: {text_input}\n",
    "#\n",
    "# Question: Посчитай количество человек в тексте и укажи это количество цифрой\n",
    "#\n",
    "# Answer: ...\n",
    "# \"\"\""
   ],
   "metadata": {
    "collapsed": false,
    "ExecuteTime": {
     "end_time": "2024-01-29T07:19:23.696372Z",
     "start_time": "2024-01-29T07:19:23.686804Z"
    }
   }
  },
  {
   "cell_type": "code",
   "execution_count": 86,
   "outputs": [],
   "source": [
    "# Напишите шаблон промпт, указав инструкцию, вопрос и выходной индикатор\n",
    "prompt_template = \"\"\"Ответь на вопрос, опираясь только на контекст ниже.\n",
    "В ответе отправьте только число, без слов.\n",
    "Если на вопрос нельзя ответить, используя информацию из контекста,\n",
    "ответь '0'.\n",
    "\n",
    "Context: {text_input}\n",
    "\n",
    "Question: Для какого количества человек требуется жилье (осторожно, не учитывай одного человека несколько раз, вчитайся в текст)?\n",
    "\n",
    "\"\"\""
   ],
   "metadata": {
    "collapsed": false,
    "ExecuteTime": {
     "end_time": "2024-01-29T07:38:39.234821Z",
     "start_time": "2024-01-29T07:38:39.210546Z"
    }
   }
  },
  {
   "cell_type": "code",
   "execution_count": 87,
   "outputs": [
    {
     "name": "stderr",
     "output_type": "stream",
     "text": [
      "100%|██████████| 100/100 [00:52<00:00,  1.91it/s]\n"
     ]
    }
   ],
   "source": [
    "amount_list = [] # Список, где будем хранить ответы модели\n",
    "\n",
    "for text_input in tqdm(df['text']):\n",
    "    prompt = prompt_template.format(text_input=text_input) # Добавляем сообщение в промпт\n",
    "    amount = llm.predict(prompt) # Ответ модели\n",
    "    amount_list.append(amount) # Добавляем ответ в список\n",
    "    # break # Для отладки. Уберите, когда убедитесь, что на одном примере работает"
   ],
   "metadata": {
    "collapsed": false,
    "ExecuteTime": {
     "end_time": "2024-01-29T07:39:32.037655Z",
     "start_time": "2024-01-29T07:38:39.537201Z"
    }
   }
  },
  {
   "cell_type": "code",
   "execution_count": 80,
   "outputs": [],
   "source": [
    "df['amount'] = amount_list # Создаём новый столбец из ответов модели\n",
    "df[\"amount\"] = df[\"amount\"].astype(int)"
   ],
   "metadata": {
    "collapsed": false,
    "ExecuteTime": {
     "end_time": "2024-01-29T07:37:54.533075Z",
     "start_time": "2024-01-29T07:37:54.511517Z"
    }
   }
  },
  {
   "cell_type": "code",
   "execution_count": 81,
   "outputs": [],
   "source": [
    "# df.to_csv('../data/2_1_8_solution.csv', index=False) # Сохраняем файл, отправляем на Stepik, получаем баллы :)"
   ],
   "metadata": {
    "collapsed": false,
    "ExecuteTime": {
     "end_time": "2024-01-29T07:37:55.303135Z",
     "start_time": "2024-01-29T07:37:55.300998Z"
    }
   }
  },
  {
   "cell_type": "markdown",
   "source": [
    "### Проверка"
   ],
   "metadata": {
    "collapsed": false
   }
  },
  {
   "cell_type": "code",
   "execution_count": 88,
   "outputs": [],
   "source": [
    "correct_ans = pd.read_csv(\"../data/2_1_8_correct_ans.csv\")\n",
    "# solution_ans = pd.read_csv(\"../data/2_1_8_solution.csv\")\n",
    "solution_ans = df.copy()"
   ],
   "metadata": {
    "collapsed": false,
    "ExecuteTime": {
     "end_time": "2024-01-29T07:39:38.531446Z",
     "start_time": "2024-01-29T07:39:38.509365Z"
    }
   }
  },
  {
   "cell_type": "code",
   "execution_count": 89,
   "outputs": [
    {
     "data": {
      "text/plain": "       text_id\ncheck         \nFalse        5\nTrue        95",
      "text/html": "<div>\n<style scoped>\n    .dataframe tbody tr th:only-of-type {\n        vertical-align: middle;\n    }\n\n    .dataframe tbody tr th {\n        vertical-align: top;\n    }\n\n    .dataframe thead th {\n        text-align: right;\n    }\n</style>\n<table border=\"1\" class=\"dataframe\">\n  <thead>\n    <tr style=\"text-align: right;\">\n      <th></th>\n      <th>text_id</th>\n    </tr>\n    <tr>\n      <th>check</th>\n      <th></th>\n    </tr>\n  </thead>\n  <tbody>\n    <tr>\n      <th>False</th>\n      <td>5</td>\n    </tr>\n    <tr>\n      <th>True</th>\n      <td>95</td>\n    </tr>\n  </tbody>\n</table>\n</div>"
     },
     "execution_count": 89,
     "metadata": {},
     "output_type": "execute_result"
    }
   ],
   "source": [
    "data = correct_ans[[\"text_id\",\"amount\"]].merge(solution_ans[[\"text_id\", \"amount\"]], how=\"left\", on=\"text_id\")\n",
    "data.columns = [\"text_id\", \"correct_ans\", \"predict_ans\"]\n",
    "data[\"check\"] = data[\"correct_ans\"] == data[\"predict_ans\"]\n",
    "data.pivot_table(index=\"check\", aggfunc={\"text_id\":\"count\"})"
   ],
   "metadata": {
    "collapsed": false,
    "ExecuteTime": {
     "end_time": "2024-01-29T07:39:39.035505Z",
     "start_time": "2024-01-29T07:39:39.020014Z"
    }
   }
  },
  {
   "cell_type": "code",
   "execution_count": null,
   "outputs": [],
   "source": [
    "# Результаты первого запроса: 95%\n",
    "# Результаты второго запроса: 95%"
   ],
   "metadata": {
    "collapsed": false
   }
  }
 ],
 "metadata": {
  "kernelspec": {
   "display_name": "Python 3",
   "language": "python",
   "name": "python3"
  },
  "language_info": {
   "codemirror_mode": {
    "name": "ipython",
    "version": 2
   },
   "file_extension": ".py",
   "mimetype": "text/x-python",
   "name": "python",
   "nbconvert_exporter": "python",
   "pygments_lexer": "ipython2",
   "version": "2.7.6"
  }
 },
 "nbformat": 4,
 "nbformat_minor": 0
}

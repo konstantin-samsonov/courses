{
 "cells": [
  {
   "cell_type": "code",
   "execution_count": 7,
   "outputs": [],
   "source": [
    "import os\n",
    "import tiktoken\n",
    "import pandas as pd\n",
    "from tqdm import tqdm\n",
    "from dotenv import load_dotenv\n",
    "from langchain_openai import ChatOpenAI\n",
    "from langchain.prompts import PromptTemplate\n",
    "\n",
    "load_dotenv()\n",
    "tqdm.pandas()\n",
    "api_key_course = os.getenv(\"API_COURSE\")\n",
    "api_key_openai = os.getenv(\"API_OPENAI\")"
   ],
   "metadata": {
    "collapsed": false,
    "ExecuteTime": {
     "end_time": "2024-02-21T14:56:40.048394Z",
     "start_time": "2024-02-21T14:56:40.034524Z"
    }
   }
  },
  {
   "cell_type": "code",
   "execution_count": 10,
   "outputs": [],
   "source": [
    "llm = ChatOpenAI(temperature=0.0, openai_api_key=api_key_openai)"
   ],
   "metadata": {
    "collapsed": false,
    "ExecuteTime": {
     "end_time": "2024-02-21T14:59:49.679346Z",
     "start_time": "2024-02-21T14:59:49.650264Z"
    }
   }
  },
  {
   "cell_type": "code",
   "execution_count": 17,
   "outputs": [],
   "source": [
    "df = pd.read_csv(\"../data/99_stages_created_message_ru.csv\")"
   ],
   "metadata": {
    "collapsed": false,
    "ExecuteTime": {
     "end_time": "2024-02-21T15:02:16.313751Z",
     "start_time": "2024-02-21T15:02:16.298841Z"
    }
   }
  },
  {
   "cell_type": "code",
   "execution_count": 18,
   "outputs": [
    {
     "data": {
      "text/plain": "                  youtube_id                      instagram  subscribers_cnt  \\\n49  UC_nsjAbH0GlhCSDafFxIgVw    instagram.com/thiagoqueiroz           114000   \n87  UCmMV2a4SfUjz8p620X72PbA         instagram.com/cosmonal            16800   \n19  UCZE7Ci_IhhWbcnIgwi2gYNQ         instagram.com/mialvess           405000   \n77  UCg9-hTdcVa2WfVzS5DI3dHA  instagram.com/magojorgepuente            29900   \n4   UCb2PTdRGKwLjOJQtSW2YF_A  instagram.com/stealthgamerbr1          1460000   \n\n    videos_cnt                                        description  \\\n49         680  Aqui, você encontra tudo você gostaria de sabe...   \n87        1485  Quality videos about video games using real co...   \n19         840  daily routine, life in Berlin, travel and stud...   \n77         362  Bem-vindos ao canal Magia da Transformação! A ...   \n4          272  I may not have all the virtues, but I have the...   \n\n                                  description_summary  \\\n49  YouTube канал \"Paizinho Vírgula!\" посвящен вос...   \n87  YouTube канал Cosmic Effect посвящен качествен...   \n19  YouTube канал Мишель - о повседневной жизни в ...   \n77  Канал \"Magia da Transformação\" посвящен магии,...   \n4   YouTube канал посвящен игровым видео и стримам...   \n\n                                           message_ru  \n49  Привет! Спасибо тебе за твой YouTube канал \"Pa...  \n87  Привет! Спасибо тебе за твой YouTube канал Cos...  \n19  Привет! Спасибо тебе за твой YouTube канал и з...  \n77  Привет! Спасибо тебе за твой YouTube канал \"Ma...  \n4   Привет! Спасибо тебе за твой YouTube канал и з...  ",
      "text/html": "<div>\n<style scoped>\n    .dataframe tbody tr th:only-of-type {\n        vertical-align: middle;\n    }\n\n    .dataframe tbody tr th {\n        vertical-align: top;\n    }\n\n    .dataframe thead th {\n        text-align: right;\n    }\n</style>\n<table border=\"1\" class=\"dataframe\">\n  <thead>\n    <tr style=\"text-align: right;\">\n      <th></th>\n      <th>youtube_id</th>\n      <th>instagram</th>\n      <th>subscribers_cnt</th>\n      <th>videos_cnt</th>\n      <th>description</th>\n      <th>description_summary</th>\n      <th>message_ru</th>\n    </tr>\n  </thead>\n  <tbody>\n    <tr>\n      <th>49</th>\n      <td>UC_nsjAbH0GlhCSDafFxIgVw</td>\n      <td>instagram.com/thiagoqueiroz</td>\n      <td>114000</td>\n      <td>680</td>\n      <td>Aqui, você encontra tudo você gostaria de sabe...</td>\n      <td>YouTube канал \"Paizinho Vírgula!\" посвящен вос...</td>\n      <td>Привет! Спасибо тебе за твой YouTube канал \"Pa...</td>\n    </tr>\n    <tr>\n      <th>87</th>\n      <td>UCmMV2a4SfUjz8p620X72PbA</td>\n      <td>instagram.com/cosmonal</td>\n      <td>16800</td>\n      <td>1485</td>\n      <td>Quality videos about video games using real co...</td>\n      <td>YouTube канал Cosmic Effect посвящен качествен...</td>\n      <td>Привет! Спасибо тебе за твой YouTube канал Cos...</td>\n    </tr>\n    <tr>\n      <th>19</th>\n      <td>UCZE7Ci_IhhWbcnIgwi2gYNQ</td>\n      <td>instagram.com/mialvess</td>\n      <td>405000</td>\n      <td>840</td>\n      <td>daily routine, life in Berlin, travel and stud...</td>\n      <td>YouTube канал Мишель - о повседневной жизни в ...</td>\n      <td>Привет! Спасибо тебе за твой YouTube канал и з...</td>\n    </tr>\n    <tr>\n      <th>77</th>\n      <td>UCg9-hTdcVa2WfVzS5DI3dHA</td>\n      <td>instagram.com/magojorgepuente</td>\n      <td>29900</td>\n      <td>362</td>\n      <td>Bem-vindos ao canal Magia da Transformação! A ...</td>\n      <td>Канал \"Magia da Transformação\" посвящен магии,...</td>\n      <td>Привет! Спасибо тебе за твой YouTube канал \"Ma...</td>\n    </tr>\n    <tr>\n      <th>4</th>\n      <td>UCb2PTdRGKwLjOJQtSW2YF_A</td>\n      <td>instagram.com/stealthgamerbr1</td>\n      <td>1460000</td>\n      <td>272</td>\n      <td>I may not have all the virtues, but I have the...</td>\n      <td>YouTube канал посвящен игровым видео и стримам...</td>\n      <td>Привет! Спасибо тебе за твой YouTube канал и з...</td>\n    </tr>\n  </tbody>\n</table>\n</div>"
     },
     "execution_count": 18,
     "metadata": {},
     "output_type": "execute_result"
    }
   ],
   "source": [
    "df.sample(5)"
   ],
   "metadata": {
    "collapsed": false,
    "ExecuteTime": {
     "end_time": "2024-02-21T15:02:20.442588Z",
     "start_time": "2024-02-21T15:02:20.435119Z"
    }
   }
  },
  {
   "cell_type": "code",
   "execution_count": 19,
   "outputs": [],
   "source": [
    "def translate(message):\n",
    "    template = \"\"\"\n",
    "        Твоя задача - перевести на португальский язык представленный ниже текст.\n",
    "\n",
    "        Text: {message}\n",
    "\n",
    "        Answer:\"\"\"\n",
    "\n",
    "    prompt_template = PromptTemplate(\n",
    "        template=template,\n",
    "        input_variables=[\"message\"]\n",
    "    )\n",
    "\n",
    "    prompt = prompt_template.format(\n",
    "        message=message\n",
    "    )\n",
    "\n",
    "    answer = llm.predict(prompt)\n",
    "\n",
    "    return answer"
   ],
   "metadata": {
    "collapsed": false,
    "ExecuteTime": {
     "end_time": "2024-02-21T15:02:23.145161Z",
     "start_time": "2024-02-21T15:02:23.137610Z"
    }
   }
  },
  {
   "cell_type": "code",
   "execution_count": 20,
   "outputs": [
    {
     "name": "stderr",
     "output_type": "stream",
     "text": [
      "100%|██████████| 92/92 [09:36<00:00,  6.27s/it]  \n"
     ]
    }
   ],
   "source": [
    "df[\"message_pt\"] = df[\"message_ru\"].progress_apply(translate)"
   ],
   "metadata": {
    "collapsed": false,
    "ExecuteTime": {
     "end_time": "2024-02-21T15:12:04.540358Z",
     "start_time": "2024-02-21T15:02:27.663003Z"
    }
   }
  },
  {
   "cell_type": "code",
   "execution_count": 23,
   "outputs": [],
   "source": [
    "# df.to_csv(\"../data/99_stages_fin.csv\", index_label=False)"
   ],
   "metadata": {
    "collapsed": false,
    "ExecuteTime": {
     "end_time": "2024-02-21T15:12:29.631339Z",
     "start_time": "2024-02-21T15:12:29.618813Z"
    }
   }
  },
  {
   "cell_type": "code",
   "execution_count": 5,
   "outputs": [],
   "source": [],
   "metadata": {
    "collapsed": false,
    "ExecuteTime": {
     "end_time": "2024-02-21T14:53:28.378564Z",
     "start_time": "2024-02-21T14:53:28.338831Z"
    }
   }
  },
  {
   "cell_type": "code",
   "execution_count": 30,
   "outputs": [],
   "source": [],
   "metadata": {
    "collapsed": false,
    "ExecuteTime": {
     "end_time": "2024-02-21T12:08:15.046124Z",
     "start_time": "2024-02-21T12:08:15.044183Z"
    }
   }
  },
  {
   "cell_type": "code",
   "execution_count": 5,
   "outputs": [],
   "source": [],
   "metadata": {
    "collapsed": false,
    "ExecuteTime": {
     "end_time": "2024-02-21T14:52:16.047909Z",
     "start_time": "2024-02-21T14:52:16.013495Z"
    }
   }
  }
 ],
 "metadata": {
  "kernelspec": {
   "display_name": "Python 3",
   "language": "python",
   "name": "python3"
  },
  "language_info": {
   "codemirror_mode": {
    "name": "ipython",
    "version": 2
   },
   "file_extension": ".py",
   "mimetype": "text/x-python",
   "name": "python",
   "nbconvert_exporter": "python",
   "pygments_lexer": "ipython2",
   "version": "2.7.6"
  }
 },
 "nbformat": 4,
 "nbformat_minor": 0
}
